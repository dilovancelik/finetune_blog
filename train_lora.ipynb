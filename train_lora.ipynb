{
 "cells": [
  {
   "cell_type": "code",
   "execution_count": 1,
   "metadata": {},
   "outputs": [],
   "source": [
    "import psycopg as pg\n",
    "from datasets import load_dataset, DatasetDict, Dataset\n",
    "from sentence_transformers import (\n",
    "    SentenceTransformer,\n",
    "    SentenceTransformerTrainer,\n",
    "    SentenceTransformerTrainingArguments,\n",
    ")\n",
    "from sentence_transformers.losses import MultipleNegativesRankingLoss\n",
    "from sentence_transformers.training_args import BatchSamplers\n",
    "from sentence_transformers.evaluation import TripletEvaluator\n",
    "from peft import LoraConfig, TaskType\n",
    "\n",
    "import random\n",
    "import pandas as pd\n",
    "import json\n",
    "from tqdm import tqdm\n",
    "from sklearn.model_selection import train_test_split"
   ]
  },
  {
   "cell_type": "code",
   "execution_count": 2,
   "metadata": {},
   "outputs": [
    {
     "name": "stderr",
     "output_type": "stream",
     "text": [
      "creating positive negative pairs: 100%|██████████████████████| 5927/5927 [00:02<00:00, 2111.60it/s]\n"
     ]
    }
   ],
   "source": [
    "with open(\"cleaned_base_data.json\", \"r\") as f:\n",
    "    data = json.loads(f.read())\n",
    "\n",
    "negatives: pd.DataFrame = pd.read_csv(\"negatives.csv\")[\"review_text\"]\n",
    "\n",
    "total = 0\n",
    "for id, relevant_docs in data[\"relevant_docs\"].items():\n",
    "    total += len(relevant_docs)\n",
    "\n",
    "triplets = []\n",
    "with tqdm(total=total, desc=\"creating positive negative pairs\") as pbar:\n",
    "    for query_id, doc_ids in data[\"relevant_docs\"].items():\n",
    "        anchor = data[\"query\"][query_id]\n",
    "        for id in doc_ids:\n",
    "            triplets.append(\n",
    "                {\n",
    "                    \"anchor\": anchor,\n",
    "                    \"positive\": data[\"corpus\"][id],\n",
    "                    \"negative\": negatives.sample().values[0],\n",
    "                }\n",
    "            )\n",
    "            pbar.update(1)"
   ]
  },
  {
   "cell_type": "code",
   "execution_count": 3,
   "metadata": {},
   "outputs": [],
   "source": [
    "data[\"query_lk\"] = {}\n",
    "for key, value in data[\"query\"].items():\n",
    "    data[\"query_lk\"][value] = key"
   ]
  },
  {
   "cell_type": "code",
   "execution_count": 4,
   "metadata": {},
   "outputs": [],
   "source": [
    "train_triplet, val_triplet = train_test_split(pd.DataFrame(triplets), test_size=0.2)\n",
    "train_triplet, test_triplet = train_test_split(\n",
    "    pd.DataFrame(train_triplet), test_size=0.2\n",
    ")\n",
    "\n",
    "train_triplet.to_json(\"triplet_data_train.json\")\n",
    "test_triplet.to_json(\"triplet_data_test.json\")\n",
    "val_triplet.to_json(\"triplet_data_val.json\")\n",
    "\n",
    "dataset: DatasetDict = {\n",
    "    \"train\": Dataset.from_pandas(train_triplet, preserve_index=False),\n",
    "    \"test\": Dataset.from_pandas(test_triplet, preserve_index=False),\n",
    "    \"validation\": Dataset.from_pandas(val_triplet, preserve_index=False),\n",
    "}"
   ]
  },
  {
   "cell_type": "code",
   "execution_count": 5,
   "metadata": {},
   "outputs": [],
   "source": [
    "model_name = \"intfloat/multilingual-e5-small\"\n",
    "model = SentenceTransformer(model_name)\n",
    "\n",
    "peft_config = LoraConfig(\n",
    "    task_type=TaskType.FEATURE_EXTRACTION,\n",
    "    inference_mode=False,\n",
    "    r=8,\n",
    "    lora_alpha=32,\n",
    "    target_modules=[\"query\", \"key\", \"value\", \"dense\"],\n",
    "    lora_dropout=0.1,\n",
    ")\n",
    "model.add_adapter(peft_config)"
   ]
  },
  {
   "cell_type": "code",
   "execution_count": 6,
   "metadata": {},
   "outputs": [
    {
     "name": "stdout",
     "output_type": "stream",
     "text": [
      "Trainable LoRA parameters:\n",
      "--------------------------------------------------\n",
      "Total trainable parameters: 669,696\n",
      "Total model parameters:    118,323,456\n",
      "Percentage trainable:     0.57%\n"
     ]
    }
   ],
   "source": [
    "trainable_params = 0\n",
    "all_params = 0\n",
    "\n",
    "print(\"Trainable LoRA parameters:\")\n",
    "\n",
    "for name, param in model.named_parameters():\n",
    "    all_params += param.numel()\n",
    "    if param.requires_grad:\n",
    "        trainable_params += param.numel()\n",
    "        # print(f\"{name}: shape={param.shape}, params={param.numel()}\")\n",
    "\n",
    "print(\"-\" * 50)\n",
    "print(f\"Total trainable parameters: {trainable_params:,}\")\n",
    "print(f\"Total model parameters:    {all_params:,}\")\n",
    "print(f\"Percentage trainable:     {100 * trainable_params / all_params:.2f}%\")"
   ]
  },
  {
   "cell_type": "code",
   "execution_count": 7,
   "metadata": {},
   "outputs": [],
   "source": [
    "dev_evaluator = TripletEvaluator(\n",
    "    anchors=dataset[\"test\"][\"anchor\"],\n",
    "    positives=dataset[\"test\"][\"positive\"],\n",
    "    negatives=dataset[\"test\"][\"negative\"],\n",
    "    name=\"dev_evaluator\",\n",
    ")"
   ]
  },
  {
   "cell_type": "code",
   "execution_count": 8,
   "metadata": {},
   "outputs": [
    {
     "data": {
      "text/plain": [
       "{'dev_evaluator_cosine_accuracy': 0.9241306781768799}"
      ]
     },
     "execution_count": 8,
     "metadata": {},
     "output_type": "execute_result"
    }
   ],
   "source": [
    "dev_evaluator(model)"
   ]
  },
  {
   "cell_type": "code",
   "execution_count": 13,
   "metadata": {},
   "outputs": [],
   "source": [
    "def is_hit(query: str, model: SentenceTransformer, k: int, data: dict):\n",
    "    query_id = data[\"query_lk\"][query]\n",
    "    expected_ids = data[\"relevant_docs\"][query_id]\n",
    "    embedded_query = model.encode(query).tolist()\n",
    "\n",
    "    conn = pg.connect(\"dbname=vector_rag user=postgres password=postgres\")\n",
    "    conn.autocommit = True\n",
    "    cur = conn.cursor()\n",
    "\n",
    "    cur.execute(\n",
    "        \"SELECT context_id FROM embeddings ORDER BY embedding <=> %s::vector LIMIT %s;\",\n",
    "        (str(embedded_query), str(k)),\n",
    "    )\n",
    "\n",
    "    results = [row[0] for row in cur.fetchall()]\n",
    "\n",
    "    cur.close()\n",
    "    conn.close()\n",
    "\n",
    "    return 1.0 if set(results) & set(expected_ids) else 0.0\n",
    "\n",
    "\n",
    "def is_hit_base(query: str, model: SentenceTransformer, k: int, data: dict):\n",
    "    query_id = data[\"query_lk\"][query]\n",
    "    expected_ids = data[\"relevant_docs\"][query_id]\n",
    "    embedded_query = model.encode(query).tolist()\n",
    "\n",
    "    conn = pg.connect(\"dbname=vector_rag user=postgres password=postgres\")\n",
    "    conn.autocommit = True\n",
    "    cur = conn.cursor()\n",
    "\n",
    "    cur.execute(\n",
    "        \"SELECT context_id FROM embeddings_base ORDER BY embedding <=> %s::vector LIMIT %s;\",\n",
    "        (str(embedded_query), str(k)),\n",
    "    )\n",
    "\n",
    "    results = [row[0] for row in cur.fetchall()]\n",
    "\n",
    "    cur.close()\n",
    "    conn.close()\n",
    "\n",
    "    return 1.0 if set(results) & set(expected_ids) else 0.0\n",
    "\n",
    "\n",
    "def percentage_hits_base(query: str, model: SentenceTransformer, k: int, data: dict):\n",
    "    query_id = data[\"query_lk\"][query]\n",
    "    expected_ids = data[\"relevant_docs\"][query_id]\n",
    "    embedded_query = model.encode(query).tolist()\n",
    "\n",
    "    conn = pg.connect(\"dbname=vector_rag user=postgres password=postgres\")\n",
    "    conn.autocommit = True\n",
    "    cur = conn.cursor()\n",
    "\n",
    "    cur.execute(\n",
    "        \"SELECT context_id FROM embeddings_base ORDER BY embedding <=> %s::vector LIMIT %s;\",\n",
    "        (str(embedded_query), str(k)),\n",
    "    )\n",
    "\n",
    "    results = [row[0] for row in cur.fetchall()]\n",
    "\n",
    "    cur.close()\n",
    "    conn.close()\n",
    "\n",
    "    min_res = min(len(expected_ids), k)\n",
    "\n",
    "    return len(set(results) & set(expected_ids)) / min_res\n",
    "\n",
    "\n",
    "def percentage_hits(query: str, model: SentenceTransformer, k: int, data: dict):\n",
    "    query_id = data[\"query_lk\"][query]\n",
    "    expected_ids = data[\"relevant_docs\"][query_id]\n",
    "    embedded_query = model.encode(query).tolist()\n",
    "\n",
    "    conn = pg.connect(\"dbname=vector_rag user=postgres password=postgres\")\n",
    "    conn.autocommit = True\n",
    "    cur = conn.cursor()\n",
    "\n",
    "    cur.execute(\n",
    "        \"SELECT context_id FROM embeddings ORDER BY embedding <=> %s::vector LIMIT %s;\",\n",
    "        (str(embedded_query), str(k)),\n",
    "    )\n",
    "\n",
    "    results = [row[0] for row in cur.fetchall()]\n",
    "\n",
    "    cur.close()\n",
    "    conn.close()\n",
    "\n",
    "    min_res = min(len(expected_ids), k)\n",
    "\n",
    "    return len(set(results) & set(expected_ids)) / min_res"
   ]
  },
  {
   "cell_type": "code",
   "execution_count": 10,
   "metadata": {},
   "outputs": [
    {
     "name": "stderr",
     "output_type": "stream",
     "text": [
      "Saving embeddings: 100%|███████████████████████████████████████| 1173/1173 [02:11<00:00,  8.89it/s]\n"
     ]
    }
   ],
   "source": [
    "def embed_documents(speech, context_id, context, embedding):\n",
    "    conn = pg.connect(\"dbname=vector_rag user=postgres password=postgres\")\n",
    "    conn.autocommit = True\n",
    "    cur = conn.cursor()\n",
    "    cur.execute(\n",
    "        \"INSERT INTO embeddings (speech, context_id, context, embedding) VALUES (%s, %s, %s, %s)\",\n",
    "        (speech, context_id, context, str(embedding)),\n",
    "    )\n",
    "    cur.close()\n",
    "    conn.close()\n",
    "\n",
    "\n",
    "def embed_documents_base(speech, context_id, context, embedding):\n",
    "    conn = pg.connect(\"dbname=vector_rag user=postgres password=postgres\")\n",
    "    conn.autocommit = True\n",
    "    cur = conn.cursor()\n",
    "    cur.execute(\n",
    "        \"INSERT INTO embeddings_base (speech, context_id, context, embedding) VALUES (%s, %s, %s, %s)\",\n",
    "        (speech, context_id, context, str(embedding)),\n",
    "    )\n",
    "    cur.close()\n",
    "    conn.close()\n",
    "\n",
    "\n",
    "with tqdm(total=len(data[\"corpus\"].keys()), desc=\"Saving embeddings\") as pbar:\n",
    "    for id, context in data[\"corpus\"].items():\n",
    "        speech_name = data[\"related_speech\"][id]\n",
    "        embedding = model.encode(context).tolist()\n",
    "        embed_documents_base(speech_name, id, context, embedding)\n",
    "        pbar.update(1)"
   ]
  },
  {
   "cell_type": "code",
   "execution_count": 14,
   "metadata": {},
   "outputs": [
    {
     "name": "stdout",
     "output_type": "stream",
     "text": [
      "Recall@10 Metric:  0.38883034773445735\n",
      "Recall@4 Metric:  0.2792413066385669\n",
      "Recall@10 Metric %:  0.3675125863482028\n",
      "Recall@4 Metric %:  0.26536705303828595\n"
     ]
    }
   ],
   "source": [
    "recall_10 = (\n",
    "    test_triplet.apply(\n",
    "        lambda x: is_hit_base(x[\"anchor\"], model, 10, data), axis=1\n",
    "    ).sum()\n",
    "    / test_triplet.shape[0]\n",
    ")\n",
    "print(\"Recall@10 Metric: \", recall_10)\n",
    "recall_4 = (\n",
    "    test_triplet.apply(lambda x: is_hit_base(x[\"anchor\"], model, 4, data), axis=1).sum()\n",
    "    / test_triplet.shape[0]\n",
    ")\n",
    "print(\"Recall@4 Metric: \", recall_4)\n",
    "recall_10 = (\n",
    "    test_triplet.apply(\n",
    "        lambda x: percentage_hits_base(x[\"anchor\"], model, 10, data), axis=1\n",
    "    ).sum()\n",
    "    / test_triplet.shape[0]\n",
    ")\n",
    "print(\"Recall@10 Metric %: \", recall_10)\n",
    "recall_4 = (\n",
    "    test_triplet.apply(\n",
    "        lambda x: percentage_hits_base(x[\"anchor\"], model, 4, data), axis=1\n",
    "    ).sum()\n",
    "    / test_triplet.shape[0]\n",
    ")\n",
    "print(\"Recall@4 Metric %: \", recall_4)"
   ]
  },
  {
   "cell_type": "code",
   "execution_count": 15,
   "metadata": {},
   "outputs": [],
   "source": [
    "loss = MultipleNegativesRankingLoss(model)"
   ]
  },
  {
   "cell_type": "code",
   "execution_count": 16,
   "metadata": {},
   "outputs": [],
   "source": [
    "args = SentenceTransformerTrainingArguments(\n",
    "    # Required parameter:\n",
    "    output_dir=\"models/multilingual-e5-small-finetune-danish-subject\",\n",
    "    # Optional training parameters:\n",
    "    num_train_epochs=5,\n",
    "    per_device_train_batch_size=8,\n",
    "    per_device_eval_batch_size=8,\n",
    "    learning_rate=2e-5,\n",
    "    warmup_ratio=0.1,\n",
    "    bf16=True,  # Set to True if you have a GPU that supports BF16\n",
    "    batch_sampler=BatchSamplers.NO_DUPLICATES,  # MultipleNegativesRankingLoss benefits from no duplicate samples in a batch\n",
    "    # Optional tracking/debugging parameters:\n",
    "    eval_strategy=\"steps\",\n",
    "    eval_steps=100,\n",
    "    save_strategy=\"steps\",\n",
    "    save_steps=100,\n",
    "    save_total_limit=2,\n",
    "    logging_steps=25,\n",
    "    logging_first_step=True,\n",
    ")"
   ]
  },
  {
   "cell_type": "code",
   "execution_count": 17,
   "metadata": {},
   "outputs": [
    {
     "data": {
      "application/vnd.jupyter.widget-view+json": {
       "model_id": "f112179f6e334f0596362f02f09859a7",
       "version_major": 2,
       "version_minor": 0
      },
      "text/plain": [
       "Computing widget examples:   0%|          | 0/1 [00:00<?, ?example/s]"
      ]
     },
     "metadata": {},
     "output_type": "display_data"
    },
    {
     "data": {
      "text/html": [
       "\n",
       "    <div>\n",
       "      \n",
       "      <progress value='2370' max='2370' style='width:300px; height:20px; vertical-align: middle;'></progress>\n",
       "      [2370/2370 1:29:51, Epoch 5/5]\n",
       "    </div>\n",
       "    <table border=\"1\" class=\"dataframe\">\n",
       "  <thead>\n",
       " <tr style=\"text-align: left;\">\n",
       "      <th>Step</th>\n",
       "      <th>Training Loss</th>\n",
       "      <th>Validation Loss</th>\n",
       "    </tr>\n",
       "  </thead>\n",
       "  <tbody>\n",
       "    <tr>\n",
       "      <td>100</td>\n",
       "      <td>2.148300</td>\n",
       "      <td>1.999138</td>\n",
       "    </tr>\n",
       "    <tr>\n",
       "      <td>200</td>\n",
       "      <td>1.438900</td>\n",
       "      <td>1.161660</td>\n",
       "    </tr>\n",
       "    <tr>\n",
       "      <td>300</td>\n",
       "      <td>1.005300</td>\n",
       "      <td>0.738626</td>\n",
       "    </tr>\n",
       "    <tr>\n",
       "      <td>400</td>\n",
       "      <td>0.817900</td>\n",
       "      <td>0.688838</td>\n",
       "    </tr>\n",
       "    <tr>\n",
       "      <td>500</td>\n",
       "      <td>0.761000</td>\n",
       "      <td>0.655040</td>\n",
       "    </tr>\n",
       "    <tr>\n",
       "      <td>600</td>\n",
       "      <td>0.713800</td>\n",
       "      <td>0.646488</td>\n",
       "    </tr>\n",
       "    <tr>\n",
       "      <td>700</td>\n",
       "      <td>0.742600</td>\n",
       "      <td>0.631984</td>\n",
       "    </tr>\n",
       "    <tr>\n",
       "      <td>800</td>\n",
       "      <td>0.692700</td>\n",
       "      <td>0.625631</td>\n",
       "    </tr>\n",
       "    <tr>\n",
       "      <td>900</td>\n",
       "      <td>0.681200</td>\n",
       "      <td>0.614663</td>\n",
       "    </tr>\n",
       "    <tr>\n",
       "      <td>1000</td>\n",
       "      <td>0.669100</td>\n",
       "      <td>0.610578</td>\n",
       "    </tr>\n",
       "    <tr>\n",
       "      <td>1100</td>\n",
       "      <td>0.630100</td>\n",
       "      <td>0.607684</td>\n",
       "    </tr>\n",
       "    <tr>\n",
       "      <td>1200</td>\n",
       "      <td>0.649100</td>\n",
       "      <td>0.594949</td>\n",
       "    </tr>\n",
       "    <tr>\n",
       "      <td>1300</td>\n",
       "      <td>0.688400</td>\n",
       "      <td>0.593015</td>\n",
       "    </tr>\n",
       "    <tr>\n",
       "      <td>1400</td>\n",
       "      <td>0.615900</td>\n",
       "      <td>0.590680</td>\n",
       "    </tr>\n",
       "    <tr>\n",
       "      <td>1500</td>\n",
       "      <td>0.539300</td>\n",
       "      <td>0.587756</td>\n",
       "    </tr>\n",
       "    <tr>\n",
       "      <td>1600</td>\n",
       "      <td>0.714100</td>\n",
       "      <td>0.585997</td>\n",
       "    </tr>\n",
       "    <tr>\n",
       "      <td>1700</td>\n",
       "      <td>0.560700</td>\n",
       "      <td>0.587828</td>\n",
       "    </tr>\n",
       "    <tr>\n",
       "      <td>1800</td>\n",
       "      <td>0.669800</td>\n",
       "      <td>0.586214</td>\n",
       "    </tr>\n",
       "    <tr>\n",
       "      <td>1900</td>\n",
       "      <td>0.509100</td>\n",
       "      <td>0.581002</td>\n",
       "    </tr>\n",
       "    <tr>\n",
       "      <td>2000</td>\n",
       "      <td>0.610800</td>\n",
       "      <td>0.579501</td>\n",
       "    </tr>\n",
       "    <tr>\n",
       "      <td>2100</td>\n",
       "      <td>0.549300</td>\n",
       "      <td>0.581245</td>\n",
       "    </tr>\n",
       "    <tr>\n",
       "      <td>2200</td>\n",
       "      <td>0.696400</td>\n",
       "      <td>0.579927</td>\n",
       "    </tr>\n",
       "    <tr>\n",
       "      <td>2300</td>\n",
       "      <td>0.568700</td>\n",
       "      <td>0.578616</td>\n",
       "    </tr>\n",
       "  </tbody>\n",
       "</table><p>"
      ],
      "text/plain": [
       "<IPython.core.display.HTML object>"
      ]
     },
     "metadata": {},
     "output_type": "display_data"
    },
    {
     "data": {
      "text/plain": [
       "TrainOutput(global_step=2370, training_loss=0.7815563976513182, metrics={'train_runtime': 5394.3691, 'train_samples_per_second': 3.515, 'train_steps_per_second': 0.439, 'total_flos': 0.0, 'train_loss': 0.7815563976513182, 'epoch': 5.0})"
      ]
     },
     "execution_count": 17,
     "metadata": {},
     "output_type": "execute_result"
    }
   ],
   "source": [
    "trainer = SentenceTransformerTrainer(\n",
    "    model=model,\n",
    "    args=args,\n",
    "    train_dataset=dataset[\"train\"],\n",
    "    eval_dataset=dataset[\"test\"],\n",
    "    loss=loss,\n",
    ")\n",
    "trainer.train()"
   ]
  },
  {
   "cell_type": "code",
   "execution_count": 18,
   "metadata": {},
   "outputs": [
    {
     "name": "stderr",
     "output_type": "stream",
     "text": [
      "Saving embeddings: 100%|███████████████████████████████████████| 1173/1173 [01:20<00:00, 14.55it/s]\n"
     ]
    }
   ],
   "source": [
    "with tqdm(total=len(data[\"corpus\"].keys()), desc=\"Saving embeddings\") as pbar:\n",
    "    for id, context in data[\"corpus\"].items():\n",
    "        speech_name = data[\"related_speech\"][id]\n",
    "        embedding = model.encode(context).tolist()\n",
    "        embed_documents(speech_name, id, context, embedding)\n",
    "        pbar.update(1)"
   ]
  },
  {
   "cell_type": "code",
   "execution_count": 19,
   "metadata": {},
   "outputs": [
    {
     "name": "stdout",
     "output_type": "stream",
     "text": [
      "Recall@10 Metric:  0.5015806111696522\n",
      "Recall@4 Metric:  0.3403582718651212\n",
      "Recall@10 Metric %:  0.4764518206299028\n",
      "Recall@4 Metric %:  0.3213031260976466\n"
     ]
    }
   ],
   "source": [
    "recall_10 = (\n",
    "    test_triplet.apply(lambda x: is_hit(x[\"anchor\"], model, 10, data), axis=1).sum()\n",
    "    / test_triplet.shape[0]\n",
    ")\n",
    "print(\"Recall@10 Metric: \", recall_10)\n",
    "recall_4 = (\n",
    "    test_triplet.apply(lambda x: is_hit(x[\"anchor\"], model, 4, data), axis=1).sum()\n",
    "    / test_triplet.shape[0]\n",
    ")\n",
    "print(\"Recall@4 Metric: \", recall_4)\n",
    "recall_10 = (\n",
    "    test_triplet.apply(\n",
    "        lambda x: percentage_hits(x[\"anchor\"], model, 10, data), axis=1\n",
    "    ).sum()\n",
    "    / test_triplet.shape[0]\n",
    ")\n",
    "print(\"Recall@10 Metric %: \", recall_10)\n",
    "recall_4 = (\n",
    "    test_triplet.apply(\n",
    "        lambda x: percentage_hits(x[\"anchor\"], model, 4, data), axis=1\n",
    "    ).sum()\n",
    "    / test_triplet.shape[0]\n",
    ")\n",
    "print(\"Recall@4 Metric %: \", recall_4)"
   ]
  },
  {
   "cell_type": "code",
   "execution_count": 20,
   "metadata": {},
   "outputs": [
    {
     "data": {
      "text/plain": [
       "{'dev_evaluator_cosine_accuracy': 0.9989462494850159}"
      ]
     },
     "execution_count": 20,
     "metadata": {},
     "output_type": "execute_result"
    }
   ],
   "source": [
    "dev_evaluator(model)"
   ]
  },
  {
   "cell_type": "code",
   "execution_count": 21,
   "metadata": {},
   "outputs": [
    {
     "name": "stdout",
     "output_type": "stream",
     "text": [
      "Recall@10 Metric:  0.6301369863013698\n",
      "Recall@10 Metric %:  0.6093469316072057\n"
     ]
    }
   ],
   "source": [
    "recall_10 = (\n",
    "    test_triplet.apply(lambda x: is_hit(x[\"anchor\"], model, 20, data), axis=1).sum()\n",
    "    / test_triplet.shape[0]\n",
    ")\n",
    "print(\"Recall@10 Metric: \", recall_10)\n",
    "recall_10 = (\n",
    "    test_triplet.apply(\n",
    "        lambda x: percentage_hits(x[\"anchor\"], model, 20, data), axis=1\n",
    "    ).sum()\n",
    "    / test_triplet.shape[0]\n",
    ")\n",
    "print(\"Recall@10 Metric %: \", recall_10)"
   ]
  },
  {
   "cell_type": "code",
   "execution_count": 24,
   "metadata": {},
   "outputs": [],
   "source": [
    "test_triplet[\"has hit\"] = test_triplet.apply(\n",
    "    lambda x: is_hit(x[\"anchor\"], model, 20, data), axis=1\n",
    ")"
   ]
  },
  {
   "cell_type": "code",
   "execution_count": 25,
   "metadata": {},
   "outputs": [
    {
     "data": {
      "text/html": [
       "<div>\n",
       "<style scoped>\n",
       "    .dataframe tbody tr th:only-of-type {\n",
       "        vertical-align: middle;\n",
       "    }\n",
       "\n",
       "    .dataframe tbody tr th {\n",
       "        vertical-align: top;\n",
       "    }\n",
       "\n",
       "    .dataframe thead th {\n",
       "        text-align: right;\n",
       "    }\n",
       "</style>\n",
       "<table border=\"1\" class=\"dataframe\">\n",
       "  <thead>\n",
       "    <tr style=\"text-align: right;\">\n",
       "      <th></th>\n",
       "      <th>anchor</th>\n",
       "      <th>positive</th>\n",
       "      <th>negative</th>\n",
       "      <th>has hit</th>\n",
       "    </tr>\n",
       "  </thead>\n",
       "  <tbody>\n",
       "    <tr>\n",
       "      <th>5597</th>\n",
       "      <td>Samarbejde mellem offentlig og privat sektor</td>\n",
       "      <td>Corona har stillet helt særlige krav til perso...</td>\n",
       "      <td>Hurtig fejlfri levering. Gode priser.</td>\n",
       "      <td>1.0</td>\n",
       "    </tr>\n",
       "    <tr>\n",
       "      <th>4791</th>\n",
       "      <td>Demokratisk samarbejde og beslutningstagning</td>\n",
       "      <td>Vi står sammen ved at holde afstand. Alligevel...</td>\n",
       "      <td>Snabb leverans!!</td>\n",
       "      <td>0.0</td>\n",
       "    </tr>\n",
       "    <tr>\n",
       "      <th>2978</th>\n",
       "      <td>Ende på corona-restricitioner</td>\n",
       "      <td>Og blandt danskere over 65 år, der gælder det,...</td>\n",
       "      <td>Snabb leverans.</td>\n",
       "      <td>0.0</td>\n",
       "    </tr>\n",
       "    <tr>\n",
       "      <th>5212</th>\n",
       "      <td>Psykisk sundhedsydelser i Danmark</td>\n",
       "      <td>Sort blokpolitik vil sætte Danmarks klimaindsa...</td>\n",
       "      <td>Jeg søgte en IKEA shopping card i 2018 og fik....</td>\n",
       "      <td>0.0</td>\n",
       "    </tr>\n",
       "    <tr>\n",
       "      <th>3945</th>\n",
       "      <td>Regjeringsændring og Valgkamp</td>\n",
       "      <td>Da vi var samlet her i Aalborg sidste år, der ...</td>\n",
       "      <td>Rigtige gode priser og mange forskellige brand...</td>\n",
       "      <td>0.0</td>\n",
       "    </tr>\n",
       "    <tr>\n",
       "      <th>...</th>\n",
       "      <td>...</td>\n",
       "      <td>...</td>\n",
       "      <td>...</td>\n",
       "      <td>...</td>\n",
       "    </tr>\n",
       "    <tr>\n",
       "      <th>1591</th>\n",
       "      <td>Pandemis indvirkning på samfundet</td>\n",
       "      <td>Hvad enten det sker ved skærmen derhjemme elle...</td>\n",
       "      <td>Hurtig levering.</td>\n",
       "      <td>0.0</td>\n",
       "    </tr>\n",
       "    <tr>\n",
       "      <th>1990</th>\n",
       "      <td>Grønland-Danmark relationer og historiske spør...</td>\n",
       "      <td>Og der må jeg bare sige, jeg synes, at det på ...</td>\n",
       "      <td>Bestilte i februar lidt forskelligt fra shampo...</td>\n",
       "      <td>0.0</td>\n",
       "    </tr>\n",
       "    <tr>\n",
       "      <th>4585</th>\n",
       "      <td>Nødvendigheden af fællesskab og samtale over i...</td>\n",
       "      <td>Tiden under pandemien bliver sommetider sammen...</td>\n",
       "      <td>Opdateret.\\n\\nLad jer ikke snyde af den fine s...</td>\n",
       "      <td>0.0</td>\n",
       "    </tr>\n",
       "    <tr>\n",
       "      <th>3819</th>\n",
       "      <td>Arbejdsstyrke</td>\n",
       "      <td>Vi kan ikke undvære hinanden. Vi har brug for,...</td>\n",
       "      <td>Jeg bestilte en Nintendo Wii, dog på mail, som...</td>\n",
       "      <td>0.0</td>\n",
       "    </tr>\n",
       "    <tr>\n",
       "      <th>1444</th>\n",
       "      <td>Arbejdsfællesskabsstrategi</td>\n",
       "      <td>Så hæver vi grænsen for, hvornår man skal beta...</td>\n",
       "      <td>Bestilte mad dagen før nytår til kl 17, men fi...</td>\n",
       "      <td>1.0</td>\n",
       "    </tr>\n",
       "  </tbody>\n",
       "</table>\n",
       "<p>949 rows × 4 columns</p>\n",
       "</div>"
      ],
      "text/plain": [
       "                                                 anchor  \\\n",
       "5597       Samarbejde mellem offentlig og privat sektor   \n",
       "4791       Demokratisk samarbejde og beslutningstagning   \n",
       "2978                      Ende på corona-restricitioner   \n",
       "5212                  Psykisk sundhedsydelser i Danmark   \n",
       "3945                      Regjeringsændring og Valgkamp   \n",
       "...                                                 ...   \n",
       "1591                  Pandemis indvirkning på samfundet   \n",
       "1990  Grønland-Danmark relationer og historiske spør...   \n",
       "4585  Nødvendigheden af fællesskab og samtale over i...   \n",
       "3819                                      Arbejdsstyrke   \n",
       "1444                         Arbejdsfællesskabsstrategi   \n",
       "\n",
       "                                               positive  \\\n",
       "5597  Corona har stillet helt særlige krav til perso...   \n",
       "4791  Vi står sammen ved at holde afstand. Alligevel...   \n",
       "2978  Og blandt danskere over 65 år, der gælder det,...   \n",
       "5212  Sort blokpolitik vil sætte Danmarks klimaindsa...   \n",
       "3945  Da vi var samlet her i Aalborg sidste år, der ...   \n",
       "...                                                 ...   \n",
       "1591  Hvad enten det sker ved skærmen derhjemme elle...   \n",
       "1990  Og der må jeg bare sige, jeg synes, at det på ...   \n",
       "4585  Tiden under pandemien bliver sommetider sammen...   \n",
       "3819  Vi kan ikke undvære hinanden. Vi har brug for,...   \n",
       "1444  Så hæver vi grænsen for, hvornår man skal beta...   \n",
       "\n",
       "                                               negative  has hit  \n",
       "5597              Hurtig fejlfri levering. Gode priser.      1.0  \n",
       "4791                                   Snabb leverans!!      0.0  \n",
       "2978                                    Snabb leverans.      0.0  \n",
       "5212  Jeg søgte en IKEA shopping card i 2018 og fik....      0.0  \n",
       "3945  Rigtige gode priser og mange forskellige brand...      0.0  \n",
       "...                                                 ...      ...  \n",
       "1591                                   Hurtig levering.      0.0  \n",
       "1990  Bestilte i februar lidt forskelligt fra shampo...      0.0  \n",
       "4585  Opdateret.\\n\\nLad jer ikke snyde af den fine s...      0.0  \n",
       "3819  Jeg bestilte en Nintendo Wii, dog på mail, som...      0.0  \n",
       "1444  Bestilte mad dagen før nytår til kl 17, men fi...      1.0  \n",
       "\n",
       "[949 rows x 4 columns]"
      ]
     },
     "execution_count": 25,
     "metadata": {},
     "output_type": "execute_result"
    }
   ],
   "source": [
    "test_triplet"
   ]
  },
  {
   "cell_type": "code",
   "execution_count": 26,
   "metadata": {},
   "outputs": [],
   "source": [
    "def is_hit(query: str, model: SentenceTransformer, k: int, data: dict):\n",
    "    query_id = data[\"query_lk\"][query]\n",
    "    expected_ids = data[\"relevant_docs\"][query_id]\n",
    "    embedded_query = model.encode(query).tolist()\n",
    "\n",
    "    conn = pg.connect(\"dbname=vector_rag user=postgres password=postgres\")\n",
    "    conn.autocommit = True\n",
    "    cur = conn.cursor()\n",
    "\n",
    "    cur.execute(\n",
    "        \"SELECT context_id, context FROM embeddings ORDER BY embedding <=> %s::vector LIMIT %s;\",\n",
    "        (str(embedded_query), str(k)),\n",
    "    )\n",
    "\n",
    "    results = cur.fetchall()\n",
    "\n",
    "    cur.close()\n",
    "    conn.close()\n",
    "\n",
    "    return results"
   ]
  },
  {
   "cell_type": "code",
   "execution_count": 35,
   "metadata": {},
   "outputs": [
    {
     "data": {
      "text/plain": [
       "[('dec43128-fce4-4035-a3bb-da121466716a',\n",
       "  'De næste tre dage handler ikke først og fremmest at få ret. Eller om at få det sidste ord. Men om, at vi alle tager del i en fælles samtale. Om de store spørgsmål, vi står over for. Og om hvilken vej vi skal bevæge os. Demokrati er meget mere end at afgive sin stemme. Det er at bruge den. Og lytte til andres. Debattere. Være uenige. Blive klogere. Kun sådan kan vi flytte os som mennesker og som samfund.'),\n",
       " ('fe2ec220-5c97-4790-812b-1c0005014246',\n",
       "  'Når den udvælgelse, der ligger bag hvilke opslag, man ser, primært bekræfter de holdninger, man selv havde i forvejen. Og dermed skaber såkaldte ekkokamre. Hvor vi kun mødes med mennesker, der er enige med os selv. I stedet for at lade meningerne brydes. Så dyrkes forskellene. Dynamikken forsvinder til fordel for retorikken. Og de simple svar tillægges den største værdi. Det bidrager til polarisering i vores samfund. Og udfordrer vores demokrati. Hal Koch beskrev det så godt allerede i 1945. Det er ikke afstemningerne, der er demokratiets egentlige styrke. Det er samtalen. Med det følger en forpligtigelse. Til at mødes. På tværs af hver vores standpunkter. Og til at lytte til hinanden. Ansvaret for, hvordan vi taler med hinanden. Hvad vi skriver til andre. Det er først og fremmest vores eget. Men de sociale medier. Tech-giganterne. De har også et ansvar. I dag udgiver regeringen sin første hvidbog. Om netop tech-giganterne.'),\n",
       " ('23db2d6b-31fd-41c4-9769-7afe8dc727c4',\n",
       "  'Da jeg stod på talerstolen her sidste år og holdt min åbningsredegørelse. Der takkede jeg en række kolleger for deres mangeårige indsats for folkestyret og for Danmark. I dag kan vi byde velkommen til hele 65 nyvalgte medlemmer af Folketinget. Tillykke til alle jer, der er valgt ind for første gang. Og til jer, der har opnået genvalg. Danmarks Riges Grundlov er blandt de ældste forfatninger i verden. Vi var et af de første lande til at indføre almindelig stemmeret. Og vi har igennem turbulente tider i verden og Europa holdt fast i vores demokrati og folkestyre. Danmark er et land med megen tillid mellem mennesker. Valgdeltagelsen er høj. Og den danske befolkning er vidende, engageret og deltagende. Vi her i salen repræsenterer et fantastisk folk. Et fantastisk land. Og vi skal passe på vores dyrebare og velfungerende demokrati. Det er vores fælles opgave. Mit håb er, at den valgperiode, vi nu tager fat på, vil blive kendetegnet af samarbejde og ordentlighed. Både over for de mennesker, vores beslutninger vedrører. Og over for hinanden her som kolleger. Splittelse og polarisering er nemt. Men et velfungerende samfund kræver det modsatte. Derfor har netop vi 179 en helt særlig opgave. Hver dag at arbejde for det fælles bedste for den befolkning, vi har fået det kæmpe privilegium og ansvar for at repræsentere. Jeg glæder mig til samarbejdet. Både om det nære. Og om det, der sker i verden omkring os. Vi lever i en tid præget af uforudsigelighed og store udfordringer. Først en pandemi. Så en krig i Europa. Energikrise. Inflation. Økonomisk usikkerhed. Men også en tid med håb. Og vilje til at gå nye veje. Det afspejlede sig i de regeringsforhandlinger, som vi afsluttede kort før jul. Alle Folketingets partier deltog i drøftelserne. Som blev historisk lange. Fordi vi var grundige. Og afsøgte alle muligheder for at bringe Danmark videre i et bredt politisk samarbejde. Jeg håber, at der er en del partier her i salen, som kan finde deres aftryk i det regeringsgrundlag, som blev resultatet af forhandlingerne. Vi har sat nye klimamål – vel og mærke de mest ambitiøse for Danmark nogensinde. Med et stædigt fokus på at realisere de klimamål, vi har sat – og med de nye for øje – vil vi bane vejen for en hurtigere grøn omstilling. Fjernvarme og varmepumper skal nå flere danske hjem. Og vi skal udbygge vores globale grønne førerposition. Skabe grøn vækst for vores virksomheder. Når det gælder velfærden, skal pengene selvfølgelig følge med, når vi bliver flere børn og ældre. Vi vil holde fast i en stram udlændingepolitik. At have styr på antallet, der kommer hertil, er afgørende for både Danmarks sammenhængskraft, og for at integrationen lykkes. Men de stramme regler medfører nogle gange udfordringer for mennesker, der ønsker at arbejde og bidrage til Danmark. Det vil vi søge at løse.'),\n",
       " ('4e9a2320-601c-4aa6-83d5-64812463f4f4',\n",
       "  'Der findes ikke længere en fælles blå økonomisk politik. Og der findes ikke en fælles rød udlændingepolitik. Vi må finde nye samarbejdsformer. Jeg tror mere på samarbejde end på splittelse. Vi er 179 medlemmer af Folketinget. Ni partier. På kryds og tværs er vi enige og uenige. Og det stiller krav til os alle sammen. Om at forhandle. Søge de bredest mulige løsninger. Det er ikke så anderledes fra andre fællesskaber. Andelsforeningen. Fodboldklubben. Skolebestyrelsen. Arbejdspladsen. Alle de steder, vi er sammen. At lytte og samarbejde. Det er sundt for folkestyret. Det skal vi være glade for på en dag, hvor vi fejrer grundloven. Grundloven sikrer også, at der højst er et år til, at statsministeren skal udskrive valg. Når det sker, går vi til valg på at danne en socialdemokratisk etpartiregering. Det gør vi, fordi vi vil to ting. På samme tid. Vi vil sikre ro om udlændingepolitikken. Og samtidig finde flertal for en grønnere og mere retfærdig velfærdsregering. For det første: At vi fortsætter den stramme udlændingepolitik. Sammen med et bredt flertal i Folketinget. Sådan er demokrati også. Et mindretal kan ikke tvinge et flertal til at føre en anden politik. Det har vi set for fuld udblæsning i den seneste valgperiode.'),\n",
       " ('9e60336f-2842-4152-9ee3-833fbf03a47b',\n",
       "  'Lige nu må man sige, at tingene går stærkt i dansk politik. Og der er jo rigeligt af drama til at fylde en hel tale ud. Men det er ikke det, jeg vil tale om i dag. I dag må vi løfte os lidt over dagligdagens trakasserier. Grundlovsdag er dagen, hvor vi fejrer vores demokrati. Og det er der al god grund til at gøre. Jeg tror fuldt og helt på frihed for mennesker. Og frihed til mennesker. Det er derfor, jeg er demokrat. Og det er derfor, jeg synes, der er grund til at fejre vores Grundlov og vores folkestyre. Et stærkt demokrati kræver, at vores fælles institutioner fungerer. At de grundlæggende rettigheder efterleves. Og at Grundlovens ord står til troende i enhver sammenhæng. Men det er ikke nok. Et moderne demokrati kræver mere end vores vigtigste lov. Lighed, tillid og medborgerskab er nødvendige ingredienser i et moderne og fremtidssikret dansk demokrati. Lad mig knytte nogle ord til det jeg mener, er de bærende værdier. Lighed fordi at store forskelle mellem mennesker forhindrer et samfund i at hænge sammen. Hvis der er store forskelle i vores levevilkår, vil vi flytte os fra hinanden. Og sammenhængskraften bliver mindre. Et samfund, hvor vi ikke kender hinanden, vil også være et mere utrygt samfund. I dag mener jeg, den vigtigste indsats for et mere lige samfund handler om at skabe reelt lige muligheder for alle børn og unge. Desværre møder mennesker livet med meget forskellige forudsætninger. Stadig er det sådan, at vores baggrund og opvækst bestemmer meget for vores videre liv. En af velfærdssamfundets vigtigste opgaver er derfor at skabe reelt lige muligheder. Vores vision er klar. Det må hverken være køn, etnicitet eller den sociale baggrund, der bestemmer livsbanen. Vi må insistere på, at ethvert menneske skal have mulighed for at udvikle sit eget unikke potentiale. Tillid fordi det er så afgørende, at vi tror på hinanden. Både helt konkret i forhold til myndigheder, love og regler og i forhold til vi politikere. Og bredere i vores omgang med hinanden som medborgere. Tillid er en mangelvare i stort set resten af verden. I Danmark er den stadig grundlæggende høj. Men vi skal passe godt på den.'),\n",
       " ('88eafffe-db2d-4403-8b62-2d37b4c71f13',\n",
       "  'Alle de udfordringer, vi står over for, er dybt komplekse. Og de griber ind i hinanden. For at løse dem. Så er det ikke tilstrækkeligt at dreje på en skrue ét sted. Eller gennemføre en hurtig lovpakke. Der er brug for, at vi tager mere grundlæggende fat. Udvikler løsninger sammen. Og inddrager alle relevante aktører. Det gælder også civilsamfundet. Private virksomheder, frivillige, organisationer og andre. Den nye brede regering er bygget på ambitionen om at ændre den politiske kultur. Gøre op med blokpolitik. Insistere på dialog og inddragelse på tværs. Den måde at tænke på ligger jer ikke fjernt. Hvis der er nogen, der kender til samarbejde hen over midten. Til at træffe svære beslutninger. Om alt fra nye skoledistrikter til sammenlægning af plejehjem Så er det jer. Jeg begyndte min tale i dag med at sige, at der er tidspunkter i et samfunds historie, hvor selve fundamentet er udfordret. Hvor der skal foretages afgørende valg og prioriteringer. For at sikre fremtiden. Kære topmøde! Det er præcis her, Danmark står lige nu. Det er os. Den første brede regering hen over midten i mange år. Og jer. Der lige nu står med opgaven. Med ansvaret. Med en historisk mulighed. Hvis vi bruger den rigtigt, så kan vi ikke alene fikse det sammen. Så kan vi også træffe de valg og beslutninger, som bliver afgørende for velfærdssamfundets fremtid. Det håber vi at gøre sammen med jer. Tak for ordet.'),\n",
       " ('25c76ce2-7e0f-4c59-a362-afa3080eb933',\n",
       "  'Her kan vi lade os inspirere af Poul Schlüter, der nærmest havde optimismen som et princip. Han var et musisk menneske. Med humor og livsglæde. Som kunne svare journalister med et afvæbnende modspørgsmål: ”Hvad synes du selv?” Man skal ikke dyrke uenigheden. Men respektere sine politiske modstandere. Det var hans filosofi. I dag er grundlovsdag. Og jeg kan ikke forestille mig en mere velvalgt dag at tage afsked med et af de helt store egetræer i demokratiets skov. Også i dag har vi brug for et bredt demokratisk rum. På tværs af mennesker og holdninger. Ikke kun i politik. Men i hele vores samfund. Evnen til at se en sag fra flere sider. Så vi kan starte en fælles samtale om de afgørende spørgsmål. Ikke splittelse. Men samtale.'),\n",
       " ('32c6b530-593a-4f51-9516-57e0593ff4df',\n",
       "  'Jeg tror på, at vores demokrati er stærkt nok til selv de sværeste samtaler. Tak for ordet. Og hav et rigtig godt Folkemøde!'),\n",
       " ('88a3cc11-6e0c-47e1-b7cd-2e1d4e163b4c',\n",
       "  'Da vi var samlet her i Aalborg sidste år, der stod vi foran en valgkamp. Jeg var stolt af vores rene S-regering. Stolt af hele ministerholdet. I løbet af 3,5 år leverede vi mange mærkbare politiske resultater. Den grønneste regering nogensinde. Endnu flere mennesker kom i arbejde. Arne fik sin pension. Vi formidlede et bredt samarbejde i hele Folketinget. Og vi havde på mange måder et tæt samarbejde. Især Med SF og Enhedslisten. Og i en række sammenhænge også med Alternativet og De Radikale. Det har vi i øvrigt stadig – og det er jeg glad for. Men S-regeringen havde en udløbsdato. Vi blev reelt væltet af dele af vores eget parlamentariske grundlag. Og derfor sluttede den rejse. Men for Socialdemokratiet vil der altid være en ny. Vi vidste, at der skulle træffes beslutninger, der krævede lederskab. Den polarisering vi oplevede af vores samfund. Det krævede samarbejde. For at finde balancerne. De balancer, vi som parti altid har været funderet i. Mellem økonomisk ansvarlighed og social retfærdighed. Mellem land og by. Mellem idealisme og realisme. Alvor og optimisme. Derfor rakte vi hånden frem til partier, som normalt har været vores politiske modstandere. Det betyder ikke, at uenighederne er blevet væk. Vi er tre partier i regering. Socialdemokratiet. Venstre. Moderaterne. Ideologiske forskelle er der masser af. Historiske endnu flere. Men tag ikke fejl af, at når vi vil i Danmark. Så kan vi mere, når vi sætter os sammen. Når ingen får alt. Så kan slutresultatet alligevel være så meget større end hver for sig. Tak til dig Jakob og Venstre. Tak til dig Lars og Moderaterne. For samarbejdet. Fortroligheden. Og for at I havde modet til sammen med os at finde en fælles vej for Danmark. Om nogen ved vi socialdemokrater godt, at det er farligt at hvile på laurbæerne. Men lad os alligevel minde hinanden om. At den retning, vi udstak her i Aalborg for et år siden. Den brede regering, vi gik til valg på. De visioner vi lagde frem for Danmark. Det kunne 27,5 procent af danskerne se sig selv i. Tak! Til alle jer, der gav os det bedste valg i mere end 20 år.'),\n",
       " ('4a0f0f6f-69b1-4cd9-bd6f-6e0b38a8dfdb',\n",
       "  'Et andet område, hvor vi inviterer til et endnu tættere samarbejde er i rigsfællesskabet. Interessen for Arktis og Nordatlanten stiger. I rigsfællesskabet har vi et fælles mål om lavspænding i Arktis. Lige nu er den målsætning under pres. Det forholder vi os til – sammen. Jeg glæder mig over, at vi er enige om, at vi skal passe på vores åbne og demokratiske samfund. Og om, at vi skal sætte værn op mod dem, der ikke vil os det godt. Fundamentet for vores sikkerhed udgøres af samarbejdet med USA og i NATO. Noget alle parter i rigsfællesskabet havde lejlighed til at drøfte med USA’s udenrigsminister Blinken, da han besøgte Danmark for nylig. Men i den nuværende sikkerhedspolitiske virkelighed er truslerne sjældent entydige. De går ofte på tværs af politikområder. Det betyder også, at det bliver vanskeligere at skelne mellem det, der er færøsk og grønlandsk ansvar. Og det, der er dansk ansvar. Det stiller krav om endnu tættere dialog og samarbejde om udenrigs-, sikkerheds- og forsvarspolitiske spørgsmål. Det inviterer regeringen til. Jeg ser frem til fortsat at udvikle samarbejdet i rigsfællesskabet – i tæt dialog med både Færøernes landsstyre og Grønlands nye Naalakkersuisut. Og sammen med de nordatlantiske medlemmer her i Folketinget. Tak til jer for et godt samarbejde. Og så glæder jeg mig selvfølgelig til et gensyn med Færøerne og Grønland, så snart situationen tillader det.'),\n",
       " ('e530bdf1-5240-4116-b045-11e08daa384e',\n",
       "  'Og i samarbejdet med andre partier vil resultatet jo ikke altid være pure socialdemokratisk. Også det vil vi være ærlige om. Vi vil tage regeringsansvaret på os med både alvor og ydmyghed. Men vi vil samtidig være vores egen største kritiker. Vi skal ikke bare drifte. Vi skal faktisk forandre. Kære kongres. Da jeg sagde undskyld til Godhavnsdrengene, da sagde jeg samtidig, at det aldrig er for sent at gøre det rigtige. Det er endnu bedre at gøre det rigtige i tide. Nu har vi ansvaret. Forventningerne er tårnhøje. Og mange er utålmodige. Vi gør det, vi har sagt, vi vil gøre. Som vi gik til valg på. Ikke på én gang. Men fra fremskridt til fremskidt. Til gavn for dem, der har mindst. Og dermed til gavn for et endnu mere retfærdigt Danmark. Det er vores opgave. Jeg ved, vi kan løfte den. Sammen.'),\n",
       " ('040c579d-0a23-4b9b-bc91-cf6f0fee5519',\n",
       "  'Foragten overfor demokratier – og alt hvad der tilhører; frie valg, frie medier og i det hele taget retten til at tænke og leve frit. Og mens vi netop har udøvet det frie demokrati: Vedtaget reformer og diskuteret politik og passet vores hverdag, så har Rusland styrket sit forhold til Iran, til Nordkorea og til Kina. Og mens vi har været optaget af at føre en ansvarlig økonomisk politik. Gået op i budgetloven. Fået styr på inflationen og den energikrise, som blev udløst af krigen. Så har Rusland brugt den samme tid på at omstille store dele af deres industri til krigsproduktion. Og investeret massivt i militære kapaciteter. Rusland har i dag en egentlig krigsøkonomi. Derfor breder der sig også en ny realisme i Europa. Og heldigvis også en ny vilje. Båret frem af den bevidsthed og af den erkendelse, at vi ikke længere kan tage fred og frihed for givet. At vi europæere igen befinder os i en tid, hvor vi må kæmpe og stå op for de idealer og værdier, vi tror på. Og det gælder ikke kun med ord og med samhandel. Nu handler det om våben og oprustning. Ikke for at udbrede demokratier langt væk fra os selv, men for at forsvare vores eget demokrati på vores eget kontinent. Menneskers værd. Stat og suverænitet. Og selvfølgelig en international, regelbaseret verdensorden. Hvad betyder det her i forhold til Danmark? Jeg tror, at mange danskeres billede af krig er præget af dét, som vi ser i Ukraine netop nu. Vi ser angrebene. Vi ser bombardementerne. Vi hører luftalarmerne.'),\n",
       " ('152e64e8-9784-4f17-a09b-5faee4f11138',\n",
       "  'Jeg startede i går en samtale om en værdig død. Og jeg kan med glæde se, at mange har taget handsken op og meldt sig ind i samtalen. Og som forventet er synspunkterne mange. Men mange anerkender også dilemmaerne. Vi har i sandhed fået startet en demokratisk samtale om en værdig død. Lad os fortsætte den. At tage afsked med et menneske, der står os nær. Det er det sværeste, vi som mennesker kommer ud for. Døden er en uundgåelig del af livet. Og svær at tale om for mange af os. Men én ting er vi alle fælles om. Hvad enten det handler om os selv. Eller vores nærmeste. Det skal ske med værdighed. Være en ordentlig afslutning på et levet liv. Og uanset hvad man i øvrigt måtte mene. Så tror jeg, at mange er enige om, at ikke alle har den mulighed i dag. Dilemmaerne står i kø. Og de har det til fælles, at de er umulige at svare entydigt på. Men det må ikke betyde, at vi helt undlader at stille dem. Der er ikke nogen vej udenom, at den vil vække stærke følelser. Og for at være helt ærlig: Det kan debatten også vække internt i de politiske partier. For det er ikke en debat, hvor et almindeligt politisk kompas løser opgaven. Det drejer sig om noget helt andet. Der vil være en lang række aspekter, vi skal forholde os til. Etiske. Medicinske. Sociale og åndelige. Alt det kan vi. Og alt det skal vi. Med ordene fra sangen vi var fælles om lige før: Hvor ømheden er. Marcherer vi tappert med velviljens hær. Jeg kender ikke et bedre sted at starte den debat. End her i Allinge. Til Folkemødet. Tak for ordet.'),\n",
       " ('2a39c0eb-f137-47f5-94bc-e772588a0991',\n",
       "  'Som jeg sagde det før, så ved vi ikke helt præcis, hvordan vi kommer i mål. Jeg er faktisk ret enig i jeres betragtning om, at op til de 65 % der ved vi ret meget. Det sværeste det er de sidste 5 %, altså fra 65 op til 70. Derfor – forskning, det vender jeg tilbage til – men måske endnu vigtigere apropros spørgeskemaet fra før. Når alle os, der er valgt politikere, ikke rejste os, så er det jo ikke, fordi vi ikke selv har tiltro til, at vi skal løse den her opgave. Vi skal løse den her opgave. Men jeg ved, at danskernes tillid til os politikere – jeg vil ikke sige, den er i frit fald, men det noget, der nærmer sig. Og derfor står vi også på det, der vel er et afgørende øjeblik i vores samfunds historie. Fordi hvis ikke vi, hvadenten vi er forældre, beslutningstagere virksomhedsejere, har et ansvar for det her samfund, viser jeres generation og dem, der er endnu yngre, at vi tager opgaven på os – at vi ikke kun snakker om den, ikke kun analyserer den, men faktisk løser den – så er jeg bange for, vi kommer til at efterlade en generation med afmagt, med manglende tillid og dermed med manglende tro på det, der binder det hele sammen, nemlig vores demokrati. Så når vi skal helt op på 70 % i 2030, så skal vi det først og fremmest af hensyn til vores klima, vi skal det faktisk også af hensyn til os selv.'),\n",
       " ('e2852cac-3fbd-492a-b3e8-bc786b991194',\n",
       "  'At være folkevalgt for Danmark er et fantastisk privilegie. Og et stort ansvar. Vi skal have Danmark godt igennem svære tider. Vi skal styrke fundamentet under velfærdssamfundet. Forbedre vores sundhedsvæsen. Vores uddannelser. Styrke vores forsvar og sikkerhed. Skabe mere frihed og flere muligheder for mange flere mennesker. Og gøre vores lille dejlige land endnu stærkere, endnu grønnere og endnu mere trygt. Alt det. Det kan vi kun, hvis vi er ambitiøse. Åbne. Nysgerrige. Og frem for alt ansvarlige. Som ny regering vil vi holde hinanden op på, at de automatreaktioner, der lidt for ofte præger den politiske debat, erstattes af både eftertænksomhed og mod til at mødes om reelle løsninger. Og det er mit håb, at vi her i Folketinget kan finde sammen i et bredt og forpligtende samarbejde, der skal bringe Danmark videre. Vi har meget, vi skal nå.'),\n",
       " ('0a3168ad-bab6-4269-b835-92a8663ec115',\n",
       "  'Danmark har ikke brug for splittelse. Hverken mellem land og by eller mellem generationer. Og slet ikke mellem mennesker. I en verden, der er usikker – og hvor udfordringerne er store og vigtige – har Danmark brug for en stærk og troværdig ledelse af landet. Danmark har brug for en regering, der kan formidle et bredt samarbejde på Christiansborg og i samfundet. Danmark har brug for en regering, der sætter landets interesser over sine egne. Det ansvar er vi klar til at påtage os. Humlebien flyver. Det gør vores samfund også. Og ved I hvad? Sammen kan vi få det til at flyve endnu højere. Vi tror på fremtiden. Vi kæmper for retfærdighed. Vi stoler på Danmark. Tak for ordet.'),\n",
       " ('5cf0ad6a-9fe5-4087-9f7c-c90118263837',\n",
       "  'For nogle år siden besøgte jeg Skipperskolen i Skagen. Jeg mødte fremtidens skippere og skibsførere. Men også nogle af de lokale fiskere var mødt frem. En af fiskerne konstaterede tørt, at vi på Christiansborg var uenige om, hvor mange fisk de måtte lande. Han lagde heller ikke skjul på, hvem han var mest enig med. Og jeg tror ikke, det var mit parti… Men han sagde så noget i retning af: \"Kan I ikke blive enige om et eller andet kompromis? Så jeg ved, hvad jeg har at gøre med. Kan jeg investere et nyt millionbeløb i en ny kutter? Kan jeg regne med, at de nuværende betingelser gælder nogle år frem?\" Det er ord, der går igen i vores samfund. Danskerne stemmer på et parti eller en kandidat på valgdagen. Men derefter forventer de løsninger og samarbejde. Og det er ord, som det er værd at dvæle ved på en grundlovsdag som i dag. Hvor det nu er tre år siden, at danskerne valgte et nyt flertal. Det er blevet en hel anden valgperiode, end nogen kunne have forudset. Først en global pandemi. Så en krig i Europa. De største kriser i mange årtier. Det har været en hård tid. Med mange svære beslutninger. Men vi har alligevel valgt at stå sammen. Menneske og menneske imellem. Og politiker og politiker imellem.'),\n",
       " ('2450cf93-ff97-45fc-b07e-c6a8de9242bc',\n",
       "  'Vi er regering, der kommer til at stile højt og til at sigte højt. Vi danner ikke denne her regering, fordi det ikke kunne være anderledes, for det kunne godt have været gået anderledes. Vi vælger hinanden til på det her særlige tidspunkt i vores historie. Og så danner vi den for at levere løsninger – både på nogen af de grundlæggende udfordringer, men også på nogle områder, hvor vi efter mangeårig politik har kunnet konstatere, at skiftende regeringer ikke har kunnet levere dem. Det er dét, vi sætter os for at gøre nu.'),\n",
       " ('e5f882a3-f72b-4dc7-8003-5228a79afdcd',\n",
       "  'De piger og kvinder bliver vi nødt til helt kontinuerligt altid at sige det samme til, nemlig at vi ikke kommer til at lade dem i stikken. Vi vil under ingen omstændigheder acceptere parallelle retspraksisser. Man er skilt, hvis de danske myndigheder siger, at man er skilt. Hvis du kommer til Danmark, skal du respektere vores grundlæggende værdier om frihed, demokrati og ligestilling mellem kønnene, og hvis ikke du kan det, er Danmark jo simpelt hen ikke det rigtige sted for dig at være. Til gengæld er Folketingssalen her et godt sted for alle os folketingsmedlemmer. Tak for en god diskussion til alle. Og tak kunne jeg godt tænke mig at sige direkte til vores fire nordatlantiske kolleger for et, må man sige, utrætteligt arbejde – altid med dem, som det handler om for jer, den enkelte færing og den enkelte grønlænder. I er alle fire på lige præcis det her tidspunkt i vores fælles historie med til at forandre vores rigsfællesskab, og det forandrer sig meget lige nu. Mit store håb er, at vi forandrer det, så det faktisk passer til den virkelighed, som de tre befolkninger lever i. Vi er tre lande med hver vores identitet, og vi er altså også tre lande med hvert vores sprog. Det sidste har fyldt i salen her i dag. Det er Folketinget, der tilrettelægger arbejdet her i salen. Jeg vil ikke blande mig i det, og jeg har heller ikke nogen adgang til at blande mig i de beslutninger, der hører under Folketingets Præsidium. Men jeg vil gerne sige, at vi i vores arbejde i rigsfællesskabet hele tiden skal have for øje, at det skal hvile på et ligeværdigt samarbejde mellem tre ligeværdige lande og tre ligeværdige folk med hver sin unikke kultur. Jeg synes, de seneste år har understreget vigtigheden af, at vi rykker sammen, fordi der er kræfter udefra, der gerne vil splitte os, og det gælder også rigsfællesskabet. Ved siden af det skal vi så skabe nogle konkrete resultater, der rykker vores lande fremad. Lad mig bare lige give et par eksempler, hvor jeg synes at samarbejdet har fungeret godt. Behovet for at have bedre viden om rigsfællesskabet er blevet fremhævet i dag, og jeg er enig. Hvis vi styrker kendskabet til hinanden, styrker vi båndene mellem os og mindsker grobunden for fordomme. Og jeg er rigtig glad for det arbejde, der pågår omkring bl.a. børn og unge, hvad angår dokumentarfilm og undervisning i skolen. Vi skal også have et langt stærkere blik på de fordomme, nogle grønlændere desværre oplever i vores samfund. Den handlingsplan mod racisme, som nu er på trapperne, har fokus på den udfordring, og forhåbentlig kommer den til at give et bidrag til, at vi kan komme fordomme om ikke mindst grønlændere til livs. Det er uværdigt, det er uordentligt, og det har ikke plads i vores samfund. Jeg vil også gerne fremhæve, at lagmanden og kommissionsformanden for EU i foråret underskrev en aftale om et styrket samarbejde mellem EU og Færøerne. Det er noget, vi har arbejdet på i fællesskab. Det er et vigtigt skridt for at få styrket handelsrelationerne, og jeg ved efter utallige samtaler med min færøske kollega, at det er et vigtigt signal for Færøerne i den geopolitiske virkelighed, som Færøerne befinder sig i. Efter den underskrivelse var kommissionsformanden også i Nuuk, hvor det nye EU-kontor blev åbnet. Det er blot tre eksempler; mange andre kunne nævnes. Jeg kommer aldrig til at tage vores gode samarbejde for givet, og jeg ved, at det kræver en stædig og aktiv indsats fra os alle sammen. Jeg glæder mig til vores fortsatte samarbejde. Vi skal stå vagt om jøderne, sagde fru Mona Juul tidligere i dag, og jeg er meget, meget enig. Det er et emne, der ligger mig meget på sinde. Tak til enkelte ordførere i dag for at sikre, at det har fyldt i vores debat. Natten til i går fandt to eksplosioner sted tæt på den israelske ambassade. Politiet har anholdt to fra Sverige på bare 16 og 19 år. De er nu sigtet og varetægtsfængslet for ikke alene besiddelse af håndgranater, men også for at have sprængt håndgranater. I foråret var der et brandattentat mod en jødisk kvinde i København, som en ung mand nu er sigtet for efter terrorparagraffen. Kl. 23:27'),\n",
       " ('14869333-6b0b-41ec-87ab-4a55a60609bc',\n",
       "  'Så vi kan starte en fælles samtale om de afgørende spørgsmål. Ikke splittelse. Men samtale. Med blik for balancerne og nuancerne. Det er demokratiets kerne. Det blik havde Poul Schlüter. Charmerende, underspillet, med glimt i øjet. Men tag ikke fejl. Poul Schlüter var en stærk statsminister. Et stort menneske. Dertil en elegant sprogkunstner. Jeg kan ærlig talt godt engang imellem savne den lune og det vid i den offentlige debat. Der er mange gode og rammende citater. Nu kommer der ikke flere. Det sidste punktum er sat. Poul Schlüter vil blive savnet. Nu er hans plads i vores fælles historiebog.')]"
      ]
     },
     "execution_count": 35,
     "metadata": {},
     "output_type": "execute_result"
    }
   ],
   "source": [
    "is_hit(\"Demokratisk samarbejde og beslutningstagning\", model, 20, data)"
   ]
  },
  {
   "cell_type": "code",
   "execution_count": null,
   "metadata": {},
   "outputs": [],
   "source": []
  }
 ],
 "metadata": {
  "kernelspec": {
   "display_name": "Python 3 (ipykernel)",
   "language": "python",
   "name": "python3"
  },
  "language_info": {
   "codemirror_mode": {
    "name": "ipython",
    "version": 3
   },
   "file_extension": ".py",
   "mimetype": "text/x-python",
   "name": "python",
   "nbconvert_exporter": "python",
   "pygments_lexer": "ipython3",
   "version": "3.12.8"
  }
 },
 "nbformat": 4,
 "nbformat_minor": 4
}
