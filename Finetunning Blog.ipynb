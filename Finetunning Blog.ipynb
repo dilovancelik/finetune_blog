{
 "cells": [
  {
   "attachments": {},
   "cell_type": "markdown",
   "id": "3ea92989-1dfb-4eaa-a445-359ee69428b8",
   "metadata": {},
   "source": [
    "# A realistic approach to finetuning in an enterprise environment\n",
    "You’d have to be living under a rock not to notice the massive advancements in the LLM (Large Language Model) space since the release of ChatGPT in 2022. These breakthroughs have driven many companies and organizations to invest heavily in pushing the space forward, resulting in a wealth of open-source models that can be leveraged to build data products.\n",
    "\n",
    "This is an excellent starting point, but many companies possess a significant amount of internal documents and other proprietary data that could greatly enhance their data products. Ideally, they would want to incorporate this data into their tools. To address this need, many providers have introduced fine-tuning services. For example, OpenAI offers fine-tuning for their GPT-4 model. This is a fantastic service that undoubtedly provides value to many clients. However, for data engineers like me who live and work in the EU, this is often not a viable option.\n",
    "\n",
    "The EU is governed by the GDPR (General Data Protection Regulation), which imposes strict rules on how data can be used. Even before GDPR, many large enterprises were reluctant to share their data with external partners, making it challenging to use external fine-tuning services without undergoing resource-intensive compliance reviews. Consequently, many organizations opt to focus on other areas instead.\n",
    "\n",
    "The goal of this blog post is to demonstrate how you can fine-tune some of these models in a restricted enterprise environment. To illustrate this, I will run everything on my personal laptop, a 2021 MacBook Pro with an M1 Max chip and 32 GB of RAM. While this is a fairly powerful machine, I believe it is realistic to expect access to equivalent resources within an enterprise setting. I’ll show you how to achieve this step-by-step.\n",
    "\n",
    "\n",
    "## The Project\n",
    "To make this post more relatable, I’ll guide you through the process of building a Retrieval-Augmented Generation (RAG) system from scratch, where we will fine-tune the embedding algorithm. While building a RAG is an interesting project in itself, my primary hope is not only to show you how to build a RAG but also to empower you to experiment with creating your own products, even when you don’t have access to unlimited resources.\n",
    "\n",
    "Before diving in, let’s take a look at what exactly we’ll be building.\n",
    "\n",
    "### Retrieval Agumented Generation (RAG)\n",
    "A RAG is a method to enhance an existing chatbot with your own data. Essentially, it involves building a layer on top of the chatbot that takes user input and enriches it with relevant context from your internal documents. (This, by the way, is a different approach to integrating your own data into a chatbot.)\n",
    "\n",
    "The RAG enriches the original user query by embedding it and searching through a database of your internal documents, finding documents that are similar to the user's query.\n",
    "\n",
    "A simplified illustration of the RAG architecture might look like this:\n",
    "\n",
    "![Illustration of RAG architecture](./images/rag_illustration.png)\n",
    "\n",
    "### Mette (Frederiksen, Danish PM) Bot\n",
    "Our RAG will be an application where you can input a topic and retrieve the Danish Prime Minister Mette Frederiksen's opinion on the subject. The RAG will be enriched with speeches given by Mette Frederiksen.\n",
    "\n",
    "The challenge is that these speeches are mostly in Danish. Since Danish is a relatively small language (approximately 6 million native speakers), it can be difficult to find a highly effective open-source embedding model. Even when choosing a multilingual model, danish typically represents only a small fraction of the training data.\n",
    "\n",
    "Therefore, our approach will be to download a small multilingual embedding model and improve it for our specific data through fine-tuning.\n",
    "\n",
    "\n",
    "## Fintunning Pipeline\n",
    "Now that we have some background on what I'm trying to achieve lets look at the steps we need to take. \n",
    "\n",
    "1. Data Retrieval (We will not go through this, because every case is different)\n",
    "2. Data Preparation\n",
    "3. Establish Baseline for non Finetuned Model\n",
    "4. Finetuning\n",
    "5. Test to see if the model performance has improved\n",
    "6. Sample code for simple RAG\n",
    "\n",
    "As shown I will not go through the data retrieval part. I will skip this part, because the recommended approach varies depending on your data source. You can find my data in the folder data/taler\n",
    "\n",
    "To avoid having to import libraries all over the place lets import the needed dependencies here:\n"
   ]
  },
  {
   "cell_type": "code",
   "execution_count": 1,
   "id": "125960c4-4081-4bb7-bcfe-006ea70e7b51",
   "metadata": {},
   "outputs": [],
   "source": [
    "import glob\n",
    "import regex as re\n",
    "from tqdm import tqdm\n",
    "import ollama\n",
    "import uuid\n",
    "import json\n",
    "from typing import List\n",
    "from collections import defaultdict\n",
    "import pandas as pd\n",
    "import psycopg as pg\n",
    "from ollama import chat, ChatResponse\n",
    "\n",
    "from datasets import load_dataset, DatasetDict, Dataset\n",
    "\n",
    "from sentence_transformers import SentenceTransformer, SentenceTransformerTrainer, SentenceTransformerTrainingArguments\n",
    "from sentence_transformers.losses import MultipleNegativesRankingLoss\n",
    "from sentence_transformers.training_args import BatchSamplers\n",
    "from sentence_transformers.evaluation import TripletEvaluator\n",
    "\n",
    "from peft import LoraConfig, TaskType\n",
    "from sklearn.model_selection import train_test_split"
   ]
  },
  {
   "cell_type": "markdown",
   "id": "44e19dd5-092a-4dc0-b1ec-a203415fdf0d",
   "metadata": {},
   "source": [
    "## Data Preperation\n",
    "One of the most critical steps when fine-tuning a model is preparing your data properly. Before diving in, it's important to consider the specific goal of your application.\n",
    "\n",
    "For example, imagine you are building an application where users can input a list of symptoms and receive the 10 most likely diagnoses. In this scenario, you need a model that can match the embedding of the symptom list with the embeddings of the diagnoses. Conversely, if your goal were to retrieve applicable laws based on a user's question, you would need to train the model to match questions to relevant legal texts.\n",
    "\n",
    "In this example, our objective is to create a model that can take a subject (e.g., Crime, Unemployment, Climate Change) and match it with public speeches made by the Danish Prime Minister, Mette Frederiksen.\n",
    "\n",
    "I have a folder containing 153 speeches by the Prime Minister. However, because these speeches cover a wide range of subjects, I need to break them into smaller, more manageable chunks.\n",
    "\n",
    "A simple approach would be to split each speech into chunks of a fixed number of characters (e.g., 1,000 characters) with some overlap between chunks. This naive method can work quite well in many scenarios.\n",
    "\n",
    "However, I encourage you to analyze your data for natural breaks that could serve as chunking boundaries. For instance, if you were working with legal texts, it might make sense to assign each article to its own chunk.\n",
    "\n",
    "When reviewing my data, I noticed that longer speeches often included lines like **** or ---- as separators between different sections. I can use these as delimiters when chunking the text. For speeches that don't contain these separators, I will fall back on the naive approach, but instead of chunking by characters, I'll chunk by lines to maintain more natural context within each chunk.\n",
    "\n",
    "This approach to data preparation will help ensure that our fine-tuned model produces more relevant and accurate results.\n",
    "The code I wrote to handle chunking looks like this: "
   ]
  },
  {
   "cell_type": "code",
   "execution_count": 2,
   "id": "3536928a-ac92-46f2-8e95-d33ad9b37bab",
   "metadata": {},
   "outputs": [
    {
     "name": "stderr",
     "output_type": "stream",
     "text": [
      "Processing Files: 100%|███████████████████████████████████████████████████████████████████████████████████████████████████████████████████████████████████████| 153/153 [00:00<00:00, 2897.55it/s]\n"
     ]
    }
   ],
   "source": [
    "total = 0\n",
    "files = glob.glob(\"*.txt\", root_dir=\"data/taler\") # find all files in the folder data/taler\n",
    "speech_chunks = {}\n",
    "with tqdm(total=len(files), desc=\"Processing Files\") as fpbar:\n",
    "    for file_name in files:\n",
    "        speech_name = file_name.replace(\".txt\", \"\")\n",
    "        with open(f\"data/taler/{file_name}\", \"r\") as f:\n",
    "            lines = f.readlines()\n",
    "            total += len(lines)\n",
    "        context_splits = []\n",
    "\n",
    "        char_split = False\n",
    "        for line in lines:\n",
    "            if re.search(\"[a-zA-Z]\", line) is None and \"\\n\" != line:\n",
    "                char_split = True\n",
    "                break\n",
    "\n",
    "        if char_split:\n",
    "            context = []\n",
    "            for line in lines:\n",
    "                if re.search(\"[a-zA-Z]\", line) is None and \"\\n\" != line:\n",
    "                    context_splits.append(\" \".join(context))\n",
    "                    context = []\n",
    "                else:\n",
    "                    context.append(line)\n",
    "            if context != []:\n",
    "                context_splits.append(\" \".join(context))\n",
    "        else:\n",
    "            chunk_size = 10  # group size\n",
    "            overlap = 2  # overlap size\n",
    "            context_splits = [\n",
    "                \" \".join(lines[i : i + chunk_size])\n",
    "                for i in range(0, len(lines), chunk_size - overlap)\n",
    "            ]\n",
    "\n",
    "        speech_chunks[speech_name] = context_splits\n",
    "        fpbar.update(1)"
   ]
  },
  {
   "cell_type": "markdown",
   "id": "6305f155-488f-4e45-9401-1ee6d0052758",
   "metadata": {},
   "source": [
    "We now have a Python object that looks something like this:\n",
    "\n",
    "```Python\n",
    "{\n",
    "    \"speech-1\": [\"chunk 1\", \"chunk 2\", \"chunk 3\"],\n",
    "    \"speech-2\": [\"chunk 1\", \"chunk 2\", \"chunk 3\"],\n",
    "    ...\n",
    "    \"speech-n\": [\"chunk 1\", \"chunk 2\", \"chunk 3\"],\n",
    "}\n",
    "```\n",
    "\n",
    "It might be tempting to think we can simply feed this data into a \"magic AI model box\" and instantly get a neat embedding algorithm. Unfortunately, it’s not that straightforward.\n",
    "\n",
    "As mentioned earlier, our goal is to create a model where a user can input a subject and retrieve a relevant chunk. To achieve this, we need not only the chunks themselves but also associated user inputs—in this case, the corresponding subjects. Since we don’t have predefined user inputs, we need to generate them.\n",
    "\n",
    "One approach would be to manually annotate each chunk with subjects, which would undoubtedly yield the best results. However, this method would be far too time-consuming. Instead, we’ll generate synthetic data using an LLM (Large Language Model). For this task, I’ll use Microsoft’s phi4 model, running locally on my machine through [ollama](https://ollama.com) (If for some reason you are not allowed to download ollama, you can use the transformer library to create the same functionality in python, read more here: [Transformer Pipelines](https://huggingface.co/docs/transformers/main_classes/pipelines)). I've chosen this model because it offers a good balance between computational efficiency and output quality. However, I encourage you to experiment with different models to find what works best for your scenario.\n",
    "\n",
    "The method for generating this synthetic data involves feeding each chunk of text into the model and asking it to generate relevant subjects.\n",
    "\n",
    "Below is the prompt I use. The ## part is not part of the actual prompt but rather an English translation for non-Danish speakers:\n",
    "\n",
    "```\n",
    "Kontekst er nedenfor. ## Context below\n",
    "\n",
    "---------------------\n",
    "{context_str}\n",
    "---------------------\n",
    "\n",
    "Givet den givne kontekst og ingen anden viden. ## Given the context and no other knowledge\n",
    "Genere op til 5 emner som kan beskrive konteksten,. ## Generate up to 5 subjects which can describe the context\n",
    "Hvis der ikke er emner som let kan beskrive konteksten, besvar med <|NAN|> ## If there are no subjects which easily describe the context reply with <|NAN|>\n",
    "\n",
    "Du må kun svarer med emnerne formattet skal være: Emne 1|Emne 2|...|Emne n| ## You are only allowed to reply with subjects in the following format: Subject 1| Subject 2|...|Subject n|\n",
    "```\n",
    "\n",
    "Let's try this approach with a toy example to see how it works.\n"
   ]
  },
  {
   "cell_type": "code",
   "execution_count": 3,
   "id": "084b4464-f82a-4095-addb-4be2fa3494a3",
   "metadata": {},
   "outputs": [],
   "source": [
    "PROMPT_TEMPLATE = \"\"\"\\\n",
    "Kontekst er nedenfor.\n",
    "\n",
    "---------------------\n",
    "{context_str}\n",
    "---------------------\n",
    "\n",
    "Givet den givne kontekst og ingen anden viden.\n",
    "Genere op til 5 emner som kan beskrive konteksten,. \n",
    "Hvis der ikke er emner som let kan beskrive konteksten, besvar med <|NAN|>\n",
    "\n",
    "Du må kun svarer med emnerne formattet skal være: Emne 1|Emne 2|...|Emne n|\n",
    "\"\"\""
   ]
  },
  {
   "cell_type": "code",
   "execution_count": 4,
   "id": "6143fb02-4ec2-449f-b4bf-db6ae4544382",
   "metadata": {},
   "outputs": [
    {
     "name": "stdout",
     "output_type": "stream",
     "text": [
      "Response from phi4\n",
      "--------------------------------------------------------------\n",
      "Danmarks politiske og sociale debat|Folkefredsårets afgørende udfordringer for Danmark|Velfærdssystemets fremtid i Danmark|Behovet for finanslov med fokus på kernevelfærd og jobskabelse|Balance mellem økonomisk ansvarlighed og samarbejde i Folketinget|\n",
      "--------------------------------------------------------------\n"
     ]
    }
   ],
   "source": [
    "context = speech_chunks[\n",
    "    \"mette-frederiksens-aabningstale-ved-folketingets-aabningsdebat\"\n",
    "][1]\n",
    "prompt = PROMPT_TEMPLATE.format(context_str=context)\n",
    "res = ollama.chat(\"phi4\", messages=[{\"role\": \"user\", \"content\": prompt}])\n",
    "print(f\"Response from phi4\\n--------------------------------------------------------------\\n{res.message.content}\\n--------------------------------------------------------------\")\n"
   ]
  },
  {
   "cell_type": "markdown",
   "id": "8e321fd0-760e-4465-a963-6807bd90bb38",
   "metadata": {},
   "source": [
    "As you can see we get subjects back in the way we want, and can now start generating data. "
   ]
  },
  {
   "cell_type": "code",
   "execution_count": 5,
   "id": "88aa85b8-ab7b-4789-95ee-299fbc1d29e7",
   "metadata": {
    "scrolled": true
   },
   "outputs": [
    {
     "name": "stderr",
     "output_type": "stream",
     "text": [
      "Generating Queries: 100%|███████████████████████████████████████████████████████████████████████████████████████████████████████████████████████████████████| 1333/1333 [2:13:20<00:00,  6.00s/it]\n"
     ]
    }
   ],
   "source": [
    "dataset = {\n",
    "    \"speech\": {},\n",
    "    \"queries\": {},\n",
    "    \"corpus\": {},\n",
    "    \"relevant_docs\": {},\n",
    "    \"related_speech\": {},\n",
    "}\n",
    "\n",
    "## This part is just to be able to track how far we are\n",
    "total = 0\n",
    "for speech, chunks in speech_chunks.items():\n",
    "    total += len(chunks)\n",
    "\n",
    "with tqdm(total=total, desc=\"Generating Queries\") as pbar:\n",
    "    for speech, chunks in speech_chunks.items():\n",
    "        speech_id = str(uuid.uuid4())\n",
    "        dataset[\"speech\"][speech_id] = speech\n",
    "        for chunk in chunks:\n",
    "            content_id = str(uuid.uuid4())\n",
    "            dataset[\"corpus\"][content_id] = chunk\n",
    "            dataset[\"related_speech\"][content_id] = speech_id\n",
    "            prompt = PROMPT_TEMPLATE.format(context_str=chunk)\n",
    "            res = ollama.chat(\"phi4\", messages=[{\"role\": \"user\", \"content\": prompt}])\n",
    "            reply = res.message.content\n",
    "            if \"<|NAN|>\" in reply:\n",
    "                pbar.update(1)\n",
    "                continue\n",
    "            for query in reply.split(\"|\"):\n",
    "                query_id = str(uuid.uuid4())\n",
    "                dataset[\"queries\"][query_id] = query\n",
    "                dataset[\"relevant_docs\"][query_id] = [content_id]\n",
    "            pbar.update(1)\n",
    "\n",
    "with open(\"data/base_data.json\", \"w\") as f:\n",
    "    f.write(json.dumps(dataset))"
   ]
  },
  {
   "cell_type": "markdown",
   "id": "c12cb6c2-40cf-4f15-88a0-a6ffd3ca1e82",
   "metadata": {},
   "source": [
    "This process will take a while. On my MacBook Pro, it takes approximately 2.5 hours. However, if you have access to a machine with a more powerful GPU, such as an NVIDIA A100, you can significantly speed this up. Alternatively, you can use the pre-generated data, which is available in data/base_data.json.\n",
    "\n",
    "The current code uses a \"relevant document\" setup. In this approach, each query (subject) and chunk is assigned a unique UUID, with a separate structure that maps each query to its relevant subjects.\n",
    "\n",
    "Before moving forward, we need to address a couple of things:\n",
    "\n",
    "1. **Remove Duplicate Subjects:** It’s possible that the same subject appears multiple times, so we need to clean this up.\n",
    "2. **Organize Data for Model Training:** The data needs to be structured appropriately for training our model.\n",
    "\n",
    "Additionally, I’ve added a related speech object to help us look up which speech a particular chunk originates from. This will prove useful later on. However, the data is currently not in the best shape, so let's do some cleaning."
   ]
  },
  {
   "cell_type": "code",
   "execution_count": 6,
   "id": "3d188d69-f89c-43e1-b2ea-9b836d8b2bc9",
   "metadata": {},
   "outputs": [
    {
     "name": "stdout",
     "output_type": "stream",
     "text": [
      "['a000d807-024f-4ef8-8ef9-bbb8443ecbd2', '882e3169-1250-4e5d-b6b7-db6953ff57e8', '07c505f9-ad56-4e08-b17d-1dc72e510e7a', '83c898ca-f1dc-4092-be66-32c5e4aac470', '3cab520e-4768-4f16-9fa7-058b8246baeb', '100fede6-4454-4222-9022-28beade80cf6', 'e1137235-317c-4023-abed-94ba905bf4ef', '0c5ae1c0-a196-4bab-ac1b-c5d686c6f716', '52b26b6c-a9ea-4a60-9586-379c9ea9e9e7', '43235028-2764-4853-924b-c9ee7604e6fa', 'bf0fcc4b-9ca4-4786-adeb-77b89fac53e2', 'b9da2202-45f1-406c-a331-a3d80971f8a6', '2391b318-9b03-41a8-b3da-c9ca4f4749be', 'd3352bfb-04c3-4828-869d-2a50a46026c8', '6cbf6d3c-4f60-41c3-814e-05d24c673324', 'e748dd68-46c4-4492-b305-c4097b7d8d19', '21703e39-8c80-4a20-bf2a-22b36b691b4c', '01ef8197-8b30-47d0-88d9-efbf8e748b26', '43c7e4ba-cbf3-447f-a784-84442e39d2e8', '03d98d41-4a85-4711-b6c6-21ad1ca6488b', 'c8e0a11f-3c1b-44e8-851a-e0531ee5feeb', 'd899801e-bd06-45cd-8cbe-c1b5e21cdf45', 'ac98bf25-da49-498b-af9a-bbcccda649fd', '7c7e73af-82de-4636-841e-d4eddb783b5f', '752290a1-7908-422b-bc03-448bd749f4ab', '1dfa718e-41a4-4c2e-9c42-7fa3dcda616e', '4acdcb34-a665-4e4c-a314-097fa5da89ce', '682f41d2-8dff-43ad-9e05-6fde09caca15', 'c0e338d7-6638-461c-81b9-5746d9e520bb', '65ae81cf-5a01-4906-b0e9-c39ac4c4036a', '8b4c18dd-34af-4461-a55e-42ad0cc52a53', 'e4cc3345-236e-4d33-b653-fcdd31c81200', 'a42c8d25-edd7-4dcb-b355-3176e5d7fd25', '0c21a1e1-e1fd-4716-93d3-01e216d0af64', '748c63b8-0b9a-4ba0-b1f7-2f675aa99b70', '4d88846e-ee5e-4fe7-bc96-23d1ae2666f7', 'e8ec7238-f0bd-4cdf-94ac-56a1e43c5028', '23cc50fb-8891-42a6-8e8b-8789961c5102', '4937179d-1d46-471c-b2db-60f14bd20707', '6b476433-13a3-4f39-97d5-11cdf10b2c92', '2bc0ee3d-cef9-4b63-82cf-3771c30ee5da', '85d088e6-59a1-49cb-9e88-421c13063d80', 'cc43f208-3307-44f6-87f5-d253805cb5cc', '8d4bfced-bcaf-4198-a7dd-32b06f3063ec', '68619fba-4b18-47da-ac36-d17259e76ded', '77ad848a-7911-4cba-b76f-e5e1944f5990', '862fbbe7-c93b-4507-b91e-fcb72ab52f9e', '6aaa0a2a-818d-4d3c-bf8c-65963f298f34', '4bbaf1b8-d8e0-460e-a29c-f5f7d729be9f', 'fdc20cdd-dc85-4fa6-b01b-3a3b92d599c1', 'f9507767-2316-4055-9bae-6471be3d6cf0', 'c3a1cd17-f67f-44af-ae40-b0633da29a7e', '94c34d6d-fdc5-42bb-a73c-abee16efdaa0', 'eae873a9-707f-4d00-8631-a2246b7392c8', '5d5e0ab3-04fd-4328-acf9-d5968a0d31a1', '1b35d204-a0be-474c-9986-7b51cb23ab93', '7d6b6c9c-3c51-459d-9806-2e96339f70c0', '45ac807f-ddfa-44de-a0e5-989e3ffd7e16', '58081ae5-c850-40c3-9de0-4424383e46c4', 'b1c9216e-9b80-4e93-8dfc-4f6478bc87f1', '2a103095-1f79-492a-9364-f34749a32ba8', '27728fe8-24eb-4390-bf01-76b1fe8a931b', '0c684365-b1b5-4ee6-92b5-20a5cb386c8e', '61157faf-2501-4bc5-8be2-697a9a58650f', '1ea33378-f2c2-4b36-856e-4d53c727ee22', 'cb2126a1-c884-40da-8367-cb68b49b8905', '9acb0d9c-fe97-44cf-b490-ab9e32b992b3', '1fbb26b8-b99e-4eb2-80cc-22f24bb05203', '6ae15325-2d25-4df0-bba1-1bf97cf9b7c1', '3a6bc302-99f8-4041-8c47-73e6e0d7f92b', '95f9e412-a684-45e2-adff-63122de74710', '4876ee14-efd3-451b-a9b0-516600126185', '01f52fe5-14d0-46cc-8691-61310c3b000f', '7fc6b37f-678f-43a5-a0d0-2d5eedff91a3', '421f0036-9fe6-4e44-98e2-e23e8b758d57', 'dbc1599c-6005-49e5-8554-8a95cec8e924', '5c1493a8-a952-47b1-83ef-a4dcfc88c24f', '2cc06ef9-7500-4dfa-9ead-ce909c90dc48', '9060322e-b96d-4a8e-b6b4-d5ec0d70d8db', 'ebdf32de-8d3d-4c49-bf65-37697c5fa1c2', '14b5afb0-0759-4373-ab54-3472011d7a18', '32cc6e68-0bec-48a6-8a9f-141b8ca9bbdf', '52825157-9978-4e4f-8ff1-6965494e7365', 'e5a25d2b-7460-42c9-b23a-424e12b3bcfe', '68740ab3-355a-41bc-8e9a-3f4be68bd23a', '8b9ed404-de0e-4a5d-8a11-dd0ac7e3ea91', 'f5421ad5-9569-445a-8320-fe145f1584dd', 'b27236af-c0ec-490c-a430-8f66fa5a6542', 'b9d083c2-6f41-468a-8b74-863270cf360f', '334082bd-ebdb-4b49-9aed-c915926f7050', '5f18dbeb-f0c3-4074-bb4e-dd0574ace25b', 'bbe52270-fe59-4293-8c89-ac307b5cad47', 'd32fcf72-315a-4774-9c37-ed5897421c0f', '5da25199-e561-4d6c-a6e8-60586ae3cf56', '2af13029-5f38-43a1-b38b-964100d3a473', '5c9b5a4c-7f73-4100-9976-15e54fd92451', '2e33d738-d778-49b1-8cbb-1eab91956831', 'e3fb1eec-310c-4ce2-9655-dc5ee8e950c8', 'a1417d19-2278-48b7-8c84-f56d59de3377', '4ffad6e7-9043-45c6-ae92-67ffd2c15f0b', '1363c054-b7e3-4cee-892c-517f6cbcb272', '0b477349-280b-4ae3-8be0-b0bdde684f4e', 'a6254eca-2782-4919-9ff8-7cb0c7879ba0', '0e6cdcc4-6fbb-4f7e-b532-e01e26db5213', '6e1b9213-fa3a-4a6f-a07d-e51ba803ed2b', 'ca1631f0-674a-477e-ac7f-b422697da35e', 'dfc0df43-772f-4293-b0de-f5f47357254d', 'acaa19c9-2a1f-4426-9de9-d4d55464d0e4', '07619212-f312-471b-a70a-e1b2e2b89091', 'ee9b9b53-040d-4fb8-ac9a-6849c1c4f1e5', '692f6ea3-3402-4a90-bfde-0ac337bba796', 'aba71dac-a73b-48d9-91d8-8856bf1a8724', '9785f452-241d-4b19-8f6f-bd854f0a7a30', 'b0cb9084-67fc-4d64-b609-8ff0782ab6df', '94ff2be7-359a-439d-b23e-f3830b132e5e', 'fb0280d6-8881-4389-a81a-2f95115a6e14', 'a11e3718-ebf8-46a2-b3ee-66d21f0b35db', '8e6b2a2e-0050-41f2-b486-0adf674ad23a', 'f3661b0c-ea96-40df-ba31-50b1ff72fe17', '5ae49ce3-1408-4e25-b9dc-e1d2aec2ebcc', '50cd0266-bba5-43fa-8539-617c3401a404', '1f7abe6b-1d3b-4c99-a6d7-ec0cafc6b9e2', 'ddc4f8a8-8d55-479d-8383-3381e56ff931', 'fd6dea05-58c2-48c6-83e6-9dcee17d1035', '2c2300c6-cd9e-4b4d-b919-43423d773106', 'e23fe016-4d60-49cd-a7e0-06beec83a465', 'ad0543c1-9d38-493c-966f-482017729804', 'fd676ab8-5abf-4d92-915c-a9afefc3d163', 'aadc4fee-07be-42e2-813d-5a4a71f477ca', '09a13c5c-a3c2-43bd-89e6-f096e00a607d', 'c362d33a-0884-4be7-92ca-d6f2cc5eb3b3', '24d5ed24-b312-4d3e-97be-443feca6bb69', '9a42f190-8d5b-4bd8-8f9e-5a8cbd9ad327', '33ca5aa1-79a9-4419-8f3c-27fdb23818ca', '432772e4-89e4-4f0d-aaf8-dd7974ef7e2f', '0665476c-e6ca-4c52-8701-d887b38d70eb', '32c42f78-083b-4485-9fe0-bf139d1381ec', '1da052df-3b6d-4821-90d3-b5ec7fb5a517', 'de31fb0d-706c-4bde-9e4f-c02f2a3cbccc', '9653192a-8d08-4422-94eb-4a679ed8064d', 'fad3ca60-517d-48a4-9773-d58eb644b4ce', '4bf7bcdf-4cef-4659-9cc3-8a9f2efdbcc0', 'a1f0d444-9371-43f5-b3fa-7a2a27b1a723', '2f24a1a4-2466-4f60-acb5-49d23d0e8c2f', '17021e1d-67eb-4edd-b2b7-1e45bc7aaa7d', '51d52b97-650a-4fed-bbaf-16ddbbc3c140', '9ffb9ecc-a55f-42f3-9ce9-a527cd6ba149', '18171cd4-a6ee-4520-800f-ba552ed5d56b', 'e0f3aaa4-dd80-4723-aad8-991ae69cde60', '59fa820d-de58-43e6-8f6a-5abb0097fb2f', '71c87e60-09c6-4e94-af61-8d45e5cf1be6', '4bd46889-9fcd-4629-9a9d-058c02b41d6b', '7e8bdac5-8753-4a0c-8750-4470edd8d1b6', 'f934f38b-37f7-4309-a82e-5acdbd701675', 'e6495eab-dc7e-449a-bdab-932b51ce4611', '5a8a20e1-5997-4d04-92a7-be5494372291', '4d6a7df2-7227-4a41-8064-19fa09eb90d2', '153364df-bc51-4d5f-b9ef-3d723ef4ee56', '5b882d8d-d531-4535-aa29-82ba7076902c', '85e1039e-6cb4-466e-a568-14080e25380e']\n"
     ]
    }
   ],
   "source": [
    "data = dataset\n",
    "\n",
    "# Strips away redundant whitespace from the subjects and \n",
    "# removes subjects which are note actual subjects\n",
    "queries = defaultdict(list)\n",
    "for key, value in data[\"queries\"].items():\n",
    "    if value == \"\" or \"--\" in value:\n",
    "        continue\n",
    "    queries[data[\"queries\"][key].strip()].append(key)\n",
    "\n",
    "# We go through the list chunks, and remove parts that does\n",
    "# That does not include any information. This part is very \n",
    "# dependent on your data. So look through and implement the\n",
    "# rules that makes sense for you\n",
    "\n",
    "corpus = defaultdict(list)\n",
    "pop_keys = []\n",
    "for key, value in data[\"corpus\"].items():\n",
    "    value = \" \".join(value.replace(\"Tale\\n \\n \\n \\n \\n \\n \\n \", \"\").split())\n",
    "    if value.isspace() or len(value) <= 60:\n",
    "        pop_keys.append(key)\n",
    "    data[\"corpus\"][key] = value\n",
    "    corpus[value].append(key)\n",
    "\n",
    "for key in pop_keys:\n",
    "    data[\"corpus\"].pop(key)\n",
    "    data[\"related_speech\"].pop(key)\n",
    "\n",
    "\n",
    "# We create a new query structure, which removes duplicate queries\n",
    "# and remap the relevant documents to the new query ids\n",
    "relevant_docs = defaultdict(list)\n",
    "new_queries = {}\n",
    "for query in queries.keys():\n",
    "    id = str(uuid.uuid4())\n",
    "    new_queries[id] = query\n",
    "    query_ids = queries[query]\n",
    "    for query_id in query_ids:\n",
    "        for doc_id in data[\"relevant_docs\"][query_id]:\n",
    "            if doc_id not in pop_keys:\n",
    "                relevant_docs[id].append(doc_id)\n",
    "\n",
    "clean_data = {}\n",
    "clean_data[\"query\"] = new_queries\n",
    "clean_data[\"relevant_docs\"] = relevant_docs\n",
    "clean_data[\"related_speech\"] = data[\"related_speech\"]\n",
    "clean_data[\"corpus\"] = data[\"corpus\"]\n",
    "\n",
    "with open(\"data/cleaned_base_data.json\", \"w\") as out:\n",
    "    json.dump(clean_data, out)"
   ]
  },
  {
   "cell_type": "markdown",
   "id": "5a81dd35-3604-42dc-8ab5-9727dad183c3",
   "metadata": {},
   "source": [
    "Once we have cleaned the data, the next step is to determine how we want to train our model. A crucial part of this process involves selecting an appropriate loss function. The loss function is responsible for penalizing the model when it makes incorrect predictions and rewarding it when it makes correct predictions. It essentially guides the model toward better performance during training.\n",
    "\n",
    "For the type of fine-tuning we are aiming for, it is common to organize the data into triplets. The triplet data format consists of:\n",
    "\n",
    "- **Anchor:** The subject or query.\n",
    "- **Positive:** A piece of context related to the anchor.\n",
    "- **Negative:** A piece of context unrelated to the anchor.\n",
    "  \n",
    "An example of this format might look like:\n",
    "\n",
    "- **Anchor:** Defense Spending\n",
    "- **Positive:** \"The new aircraft carrier is over budget but will bring much-needed capabilities.\"\n",
    "- **Negative:** \"It's cold today, but the sun is out, making it nice if you wear the right layers.\"\n",
    "  \n",
    "However, a keen observer might notice that our dataset currently contains only positives. Therefore, we need to generate negatives to complete our triplets.\n",
    "\n",
    "There are several ways to achieve this:\n",
    "\n",
    "- **Generate Negatives with an LLM:** Similar to how we generated subjects earlier, we could use a large language model to create negative samples.\n",
    "- **Use an Unrelated Text Corpus:** Another approach is to introduce entirely unrelated text as negatives. For example, if you are working with clinical records, you could download annual reports from Goldman Sachs and use that text as your negative data.\n",
    "  \n",
    "For this project, I opted for the second approach. I downloaded a dataset containing customer reviews and randomly selected reviews as negative samples.\n",
    "\n",
    "Here's the code snippet demonstrating this approach:"
   ]
  },
  {
   "cell_type": "code",
   "execution_count": 8,
   "id": "ec28619c-fe00-4baa-832a-4c8db86b7f6b",
   "metadata": {},
   "outputs": [
    {
     "name": "stderr",
     "output_type": "stream",
     "text": [
      "creating positive negative pairs: 100%|█████████████████████████████████████████████████████████████████████████████████████████████████████████████████████| 6052/6052 [00:02<00:00, 2112.07it/s]\n"
     ]
    }
   ],
   "source": [
    "with open(\"data/cleaned_base_data.json\", \"r\") as f:\n",
    "    data = json.loads(f.read())\n",
    "\n",
    "negatives: pd.DataFrame = pd.read_csv(\"data/negatives.csv\")[\"review_text\"]\n",
    "\n",
    "total = 0\n",
    "for id, relevant_docs in data[\"relevant_docs\"].items():\n",
    "    total += len(relevant_docs)\n",
    "\n",
    "triplets = []\n",
    "with tqdm(total=total, desc=\"creating positive negative pairs\") as pbar:\n",
    "    for query_id, doc_ids in data[\"relevant_docs\"].items():\n",
    "        anchor = data[\"query\"][query_id]\n",
    "        for id in doc_ids:\n",
    "            triplets.append(\n",
    "                {\n",
    "                    \"anchor\": anchor,\n",
    "                    \"positive\": data[\"corpus\"][id],\n",
    "                    \"negative\": negatives.sample().values[0],\n",
    "                }\n",
    "            )\n",
    "            pbar.update(1)"
   ]
  },
  {
   "cell_type": "markdown",
   "id": "0b2e359a-ada9-4e37-956a-f04a0a53fbac",
   "metadata": {},
   "source": [
    "Now that we have our triplet data, the last thing is to split our data into Train, Test and Validation.\n",
    "We use Train data to finetune our model, we use test data to estimate the performance of the model during training, and validition to ensure that we did not just find a model that fit our test data well. "
   ]
  },
  {
   "cell_type": "code",
   "execution_count": 9,
   "id": "c3bc5a38-f5da-4d2f-97fc-53679ad89449",
   "metadata": {},
   "outputs": [],
   "source": [
    "train_triplet, val_triplet = train_test_split(pd.DataFrame(triplets), test_size=0.2)\n",
    "train_triplet, test_triplet = train_test_split(\n",
    "    pd.DataFrame(train_triplet), test_size=0.2\n",
    ")\n",
    "\n",
    "train_triplet.to_json(\"data/triplet_data_train.json\")\n",
    "test_triplet.to_json(\"data/triplet_data_test.json\")\n",
    "val_triplet.to_json(\"data/triplet_data_val.json\")\n",
    "\n",
    "dataset: DatasetDict = {\n",
    "    \"train\": Dataset.from_pandas(train_triplet, preserve_index=False),\n",
    "    \"test\": Dataset.from_pandas(test_triplet, preserve_index=False),\n",
    "    \"validation\": Dataset.from_pandas(val_triplet, preserve_index=False),\n",
    "}"
   ]
  },
  {
   "cell_type": "markdown",
   "id": "f3dce45a-b4d9-46cc-86ef-d199e1e08636",
   "metadata": {},
   "source": [
    "### Baseline Model and Valuation Strategy\n",
    "\n",
    "Our data is now ready, but before we start finetuning our model, we should consider how we are going to decide whether or not the finetuned model is better than the baseline one. \n",
    "\n",
    "To do this we have to do the following steps:\n",
    "1. Download a Baseline model\n",
    "2. Find a valuation method\n",
    "3. Valuate the Baseline model\n",
    "4. Finetune the model\n",
    "5. Valuate the finetuned model\n",
    "\n",
    "The first thing we will do is to download the baseline model from HuggingFace, using the SentenceTransformer library. I have chosen the [multilingual-e5-small](https://huggingface.co/intfloat/multilingual-e5-small) model. I have chosen this model because it has a good baseline performance, and is small enough to train on my laptop."
   ]
  },
  {
   "cell_type": "code",
   "execution_count": 10,
   "id": "503dae50-587a-4fe9-9585-45b00ad99927",
   "metadata": {},
   "outputs": [
    {
     "name": "stdout",
     "output_type": "stream",
     "text": [
      "Vector Size:  384\n"
     ]
    }
   ],
   "source": [
    "model_name = \"intfloat/multilingual-e5-small\"\n",
    "model = SentenceTransformer(model_name)\n",
    "\n",
    "# Test the model\n",
    "emb = model.encode(\"Hello World\")\n",
    "print(\"Vector Size: \", len(emb))"
   ]
  },
  {
   "cell_type": "markdown",
   "id": "35baf91c-f36a-454d-8343-b30188a541e4",
   "metadata": {},
   "source": [
    "Now that we've downloaded our baseline model, let's take a moment to think about how to best evaluate its performance.\n",
    "\n",
    "Now that we've downloaded our baseline model, let's spend some time thinking about how to best evaluate our model.\n",
    "\n",
    "A good place to start is here: [SentenceTransformer Evaluator Classes](https://sbert.net/docs/sentence_transformer/training_overview.html#evaluator).\n",
    "\n",
    "Going through the list, there are several that are interesting, but the one that fits our data best is the [Triplet Evaluator](https://sbert.net/docs/package_reference/sentence_transformer/evaluation.html#sentence_transformers.evaluation.TripletEvaluator).\n",
    "\n",
    "What the Triplet Evaluator does is compare the similarity between the anchor and the positive, as well as between the anchor and the negative. It then returns a percentage representing the proportion of records where the anchor embedding was closer to the positive embedding than to the negative. So, a result of 0.8 means that in 80% of cases, the anchor was closer to the positive than to the negative.\n",
    "\n",
    "We can run the model on our data using the following code."
   ]
  },
  {
   "cell_type": "code",
   "execution_count": 11,
   "id": "049b8f12-8632-4f4d-85d6-23eae4e78920",
   "metadata": {},
   "outputs": [],
   "source": [
    "dev_evaluator = TripletEvaluator(\n",
    "    anchors=dataset[\"test\"][\"anchor\"],\n",
    "    positives=dataset[\"test\"][\"positive\"],\n",
    "    negatives=dataset[\"test\"][\"negative\"],\n",
    "    name=\"dev_evaluator\",\n",
    ")"
   ]
  },
  {
   "cell_type": "code",
   "execution_count": 12,
   "id": "274b8379-29c0-4c5f-a8dd-9ee24ec61a54",
   "metadata": {},
   "outputs": [
    {
     "data": {
      "text/plain": [
       "{'dev_evaluator_cosine_accuracy': 0.9143446683883667}"
      ]
     },
     "execution_count": 12,
     "metadata": {},
     "output_type": "execute_result"
    }
   ],
   "source": [
    "dev_evaluator(model)"
   ]
  },
  {
   "cell_type": "markdown",
   "id": "07ba2997-0549-4d03-a975-2959bd6a93df",
   "metadata": {},
   "source": [
    "With our test data, we get a result of 0.91 using our baseline model. This means that in 91% of cases, the baseline model will place the anchor closer to the positive than to the negative.\n",
    "\n",
    "This is a great evaluation to start with, but in reality, this is not what we are truly interested in. We want to know whether inputting a subject will return related chunks of text. So, let's try to write a custom evaluation script. I will base my model on the Recall@K metric. The metric simply tests whether the anchor returns the positive in its top K results.\n",
    "\n",
    "We will modify this to check if any of the related documents are in the top K results. Additionally, we will introduce a metric to show the percentage of relevant documents present in the top K results.\n",
    "\n",
    "Before writing this test, we need to store the embeddings somewhere so we can query them. Many databases can handle this, but I've chosen to use Postgres with the PG Vector extension. Here's how to set it up in your Postgres database:\n",
    "\n",
    "First, install the extension by running the following command:\n",
    "```sql\n",
    "CREATE EXTENSION vector;\n",
    "```\n",
    "Then, we will create two tables to store our embeddings: one for our baseline embeddings and another for the fine-tuned embeddings:\n",
    "```sql\n",
    "CREATE TABLE embeddings_base (id bigserial PRIMARY KEY, speech VARCHAR, context_id VARCHAR, context VARCHAR, embedding vector(384))\n",
    "CREATE TABLE embeddings (id bigserial PRIMARY KEY, speech VARCHAR, context_id VARCHAR, context VARCHAR, embedding vector(384))\n",
    "```\n",
    "You might wonder about the vector(384) datatype. This simply means we are storing a vector of size 384. If you are unsure about the size of your embedding, you can find out by running:\n",
    "```python\n",
    "len(model.encode(\"Hello\"))\n",
    "```\n",
    "Now that our table is ready for embeddings, we can load them. Let's do that using the following code."
   ]
  },
  {
   "cell_type": "code",
   "execution_count": 13,
   "id": "085f5d21-6761-4b73-905b-5a5c33321797",
   "metadata": {},
   "outputs": [],
   "source": [
    "def write_to_db(speech: str, context_id: str, context: str, embedding: List, write_to_base: bool) -> None:\n",
    "    conn = pg.connect(\"dbname=vector_rag user=postgres password=postgres\")\n",
    "    conn.autocommit = True\n",
    "    cur = conn.cursor()\n",
    "    if write_to_base:\n",
    "        cur.execute(\n",
    "            \"INSERT INTO embeddings_base (speech, context_id, context, embedding) VALUES (%s, %s, %s, %s)\",\n",
    "            (speech, context_id, context, str(embedding)),\n",
    "        )\n",
    "    else:\n",
    "        cur.execute(\n",
    "            \"INSERT INTO embeddings (speech, context_id, context, embedding) VALUES (%s, %s, %s, %s)\",\n",
    "            (speech, context_id, context, str(embedding)),\n",
    "        )\n",
    "    cur.close()\n",
    "    conn.close()"
   ]
  },
  {
   "cell_type": "code",
   "execution_count": 14,
   "id": "cc690ec7-5dce-4f8d-8dfc-191ae7744681",
   "metadata": {},
   "outputs": [
    {
     "name": "stderr",
     "output_type": "stream",
     "text": [
      "Saving embeddings: 100%|██████████████████████████████████████████████████████████████████████████████████████████████████████████████████████████████████████| 1173/1173 [01:24<00:00, 13.90it/s]\n"
     ]
    }
   ],
   "source": [
    "with tqdm(total=len(data[\"corpus\"].keys()), desc=\"Saving embeddings\") as pbar:\n",
    "    for id, context in data[\"corpus\"].items():\n",
    "        speech_name = data[\"related_speech\"][id]\n",
    "        embedding = model.encode(context).tolist()\n",
    "        write_to_db(speech_name, id, context, embedding, True)\n",
    "        pbar.update(1)"
   ]
  },
  {
   "cell_type": "markdown",
   "id": "9d029d7d-6017-4e98-b917-a6605b763803",
   "metadata": {},
   "source": [
    "Then we can implement our recall k methods and test our baseline model"
   ]
  },
  {
   "cell_type": "code",
   "execution_count": 15,
   "id": "69072b26-c9bd-4c83-b335-502f6fdbe58b",
   "metadata": {},
   "outputs": [
    {
     "name": "stdout",
     "output_type": "stream",
     "text": [
      "Recall@10 Metric:  0.2868937048503612\n",
      "Recall@10 Metric %:  0.2770979736924009\n",
      "Recall@4 Metric:  0.1785345717234262\n",
      "Recall@4 Metric %:  0.1719986240110079\n"
     ]
    }
   ],
   "source": [
    "# Add lookup to make checks faster\n",
    "data[\"query_lk\"] = {}\n",
    "for key, value in data[\"query\"].items():\n",
    "    data[\"query_lk\"][value] = key\n",
    "\n",
    "def recall_k(query: str, model: SentenceTransformer, k: int, data: dict, check_base: bool) -> float:\n",
    "    query_id = data[\"query_lk\"][query]\n",
    "    expected_ids = data[\"relevant_docs\"][query_id]\n",
    "    embedded_query = model.encode(query).tolist()\n",
    "\n",
    "    conn = pg.connect(\"dbname=vector_rag user=postgres password=postgres\")\n",
    "    conn.autocommit = True\n",
    "    cur = conn.cursor()\n",
    "    if check_base:\n",
    "        cur.execute(\n",
    "            \"SELECT context_id FROM embeddings_base ORDER BY embedding <=> %s::vector LIMIT %s;\",\n",
    "            (str(embedded_query), str(k)),\n",
    "        )\n",
    "    else: \n",
    "        cur.execute(\n",
    "            \"SELECT context_id FROM embeddings ORDER BY embedding <=> %s::vector LIMIT %s;\",\n",
    "            (str(embedded_query), str(k)),\n",
    "        )\n",
    "        \n",
    "    results = [row[0] for row in cur.fetchall()]\n",
    "\n",
    "    cur.close()\n",
    "    conn.close()\n",
    "\n",
    "    min_res = min(len(expected_ids), k)\n",
    "    result_per = len(set(results) & set(expected_ids)) / min_res\n",
    "    \n",
    "    result_k = 1.0 if set(results) & set(expected_ids) else 0.0\n",
    "\n",
    "    return result_k, result_per\n",
    "\n",
    "\n",
    "recall_10 = test_triplet.apply(\n",
    "        lambda x: recall_k(x[\"anchor\"], model, 10, data, True), axis=1\n",
    "    )\n",
    "recall_10 = pd.DataFrame(recall_10.tolist(), index=recall_10.index)\n",
    "print(\"Recall@10 Metric: \", recall_10[0].sum() / test_triplet.shape[0])\n",
    "print(\"Recall@10 Metric %: \", recall_10[1].sum() / test_triplet.shape[0])\n",
    "\n",
    "\n",
    "recall_4 = test_triplet.apply(\n",
    "        lambda x: recall_k(x[\"anchor\"], model, 4, data, True), axis=1\n",
    "    )\n",
    "recall_4 = pd.DataFrame(recall_4.tolist(), index=recall_4.index)\n",
    "print(\"Recall@4 Metric: \", recall_4[0].sum() / test_triplet.shape[0])\n",
    "print(\"Recall@4 Metric %: \", recall_4[1].sum() / test_triplet.shape[0])\n"
   ]
  },
  {
   "cell_type": "markdown",
   "id": "47df99a0-9d78-46fc-808c-6395470139a8",
   "metadata": {},
   "source": [
    "With our baseline, we can now try to fine-tune our model to see if we can improve its performance.\n",
    "\n",
    "### Fine-Tuning with Limited Compute and Memory\n",
    "Although we've chosen a very small model, my laptop does not have enough memory to train it locally. This leaves me with two options:\n",
    "\n",
    "Rent a Bigger Machine: This would certainly make the process easier, but I've always found it more interesting to work within limitations.\n",
    "Work Within Constraints: I've decided to take the more challenging route and explore ways to fine-tune the model using limited resources.\n",
    "One promising solution is to perform fine-tuning using [Low Rank Adaptation (LoRA)](https://arxiv.org/pdf/2106.09685). \n",
    "\n",
    "When using LoRA, we freeze all the parameters in the baseline model and train a smaller adaptation layer, which is then multiplied onto the original weights. This significantly reduces the number of parameters we need to train. According to the original paper, this approach can reduce memory requirements threefold.\n",
    "\n",
    "Let's see the difference in trainable parameters before and after applying the LoRA adapter:"
   ]
  },
  {
   "cell_type": "code",
   "execution_count": 16,
   "id": "d803f126-ef4d-4b65-86f5-dce3ee669d0e",
   "metadata": {},
   "outputs": [
    {
     "name": "stdout",
     "output_type": "stream",
     "text": [
      "Total model parameters:    117,653,760\n",
      "----------------------------------------------------------------------\n",
      "Total trainable parameters before LoRA: 117,653,760\n",
      "Trainable Percentage trainable before LoRA:     100.00%\n",
      "----------------------------------------------------------------------\n",
      "Total trainable parameters after LoRA: 669,696\n",
      "Trainable Percentage trainable after LoRA:     0.28%\n",
      "----------------------------------------------------------------------\n"
     ]
    }
   ],
   "source": [
    "trainable_params = 0\n",
    "all_params = 0\n",
    "\n",
    "for name, param in model.named_parameters():\n",
    "    all_params += param.numel()\n",
    "    if param.requires_grad:\n",
    "        trainable_params += param.numel()\n",
    "        # print(f\"{name}: shape={param.shape}, params={param.numel()}\")\n",
    "\n",
    "\n",
    "\n",
    "print(f\"Total model parameters:    {all_params:,}\")\n",
    "print(\"-\" * 70)\n",
    "print(f\"Total trainable parameters before LoRA: {trainable_params:,}\")\n",
    "print(f\"Trainable Percentage trainable before LoRA:     {100 * trainable_params / all_params:.2f}%\")\n",
    "print(\"-\" * 70)\n",
    "## Adding LoRA Adapter\n",
    "peft_config = LoraConfig(\n",
    "    task_type=TaskType.FEATURE_EXTRACTION,\n",
    "    inference_mode=False,\n",
    "    r=8,\n",
    "    lora_alpha=32,\n",
    "    target_modules=[\"query\", \"key\", \"value\", \"dense\"],\n",
    "    lora_dropout=0.1,\n",
    ")\n",
    "model.add_adapter(peft_config)\n",
    "\n",
    "trainable_params_lora = 0\n",
    "for name, param in model.named_parameters():\n",
    "    all_params += param.numel()\n",
    "    if param.requires_grad:\n",
    "        trainable_params_lora += param.numel()\n",
    "print(f\"Total trainable parameters after LoRA: {trainable_params_lora:,}\")\n",
    "print(f\"Trainable Percentage trainable after LoRA:     {100 * trainable_params_lora / all_params:.2f}%\")\n",
    "print(\"-\" * 70)"
   ]
  },
  {
   "cell_type": "markdown",
   "id": "bf1d55f9-163e-4e1c-8fbd-11b0e2fb1f0b",
   "metadata": {},
   "source": [
    "As you can see, we reduce the trainable parameters by 99.72%, which is quite significant and ensures that this can run on my Mac. Now, let's get to the training.\n",
    "\n",
    "First, we need to decide on a loss function. To do that, I referred to the[Sentence Transformer Loss Overview](https://sbert.net/docs/sentence_transformer/loss_overview.html), and found that MultipleNegativesRankingLoss fits my data well.\n",
    "\n",
    "Second, we need to set some hyperparameters in our training arguments. There is no one-size-fits-all solution when choosing hyperparameters. From what I've read, the best approach is to experiment. Below are the hyperparameters I've chosen. I’d like to point out that the low batch size of 8 is primarily due to my memory limitations."
   ]
  },
  {
   "cell_type": "code",
   "execution_count": 17,
   "id": "f41d29b0-bf5e-4df4-8206-6a879b02e7ad",
   "metadata": {},
   "outputs": [
    {
     "data": {
      "application/vnd.jupyter.widget-view+json": {
       "model_id": "3d3086644b5f4a65a7fed11e9f862987",
       "version_major": 2,
       "version_minor": 0
      },
      "text/plain": [
       "Computing widget examples:   0%|          | 0/1 [00:00<?, ?example/s]"
      ]
     },
     "metadata": {},
     "output_type": "display_data"
    },
    {
     "data": {
      "text/html": [
       "\n",
       "    <div>\n",
       "      \n",
       "      <progress value='1452' max='1452' style='width:300px; height:20px; vertical-align: middle;'></progress>\n",
       "      [1452/1452 45:54, Epoch 2/3]\n",
       "    </div>\n",
       "    <table border=\"1\" class=\"dataframe\">\n",
       "  <thead>\n",
       " <tr style=\"text-align: left;\">\n",
       "      <th>Step</th>\n",
       "      <th>Training Loss</th>\n",
       "      <th>Validation Loss</th>\n",
       "    </tr>\n",
       "  </thead>\n",
       "  <tbody>\n",
       "    <tr>\n",
       "      <td>100</td>\n",
       "      <td>2.108800</td>\n",
       "      <td>1.862558</td>\n",
       "    </tr>\n",
       "    <tr>\n",
       "      <td>200</td>\n",
       "      <td>0.956600</td>\n",
       "      <td>0.832888</td>\n",
       "    </tr>\n",
       "    <tr>\n",
       "      <td>300</td>\n",
       "      <td>0.886300</td>\n",
       "      <td>0.748309</td>\n",
       "    </tr>\n",
       "    <tr>\n",
       "      <td>400</td>\n",
       "      <td>0.823600</td>\n",
       "      <td>0.715428</td>\n",
       "    </tr>\n",
       "    <tr>\n",
       "      <td>500</td>\n",
       "      <td>0.772200</td>\n",
       "      <td>0.690172</td>\n",
       "    </tr>\n",
       "    <tr>\n",
       "      <td>600</td>\n",
       "      <td>0.783000</td>\n",
       "      <td>0.671355</td>\n",
       "    </tr>\n",
       "    <tr>\n",
       "      <td>700</td>\n",
       "      <td>0.737700</td>\n",
       "      <td>0.661641</td>\n",
       "    </tr>\n",
       "    <tr>\n",
       "      <td>800</td>\n",
       "      <td>0.823900</td>\n",
       "      <td>0.651434</td>\n",
       "    </tr>\n",
       "    <tr>\n",
       "      <td>900</td>\n",
       "      <td>0.743400</td>\n",
       "      <td>0.644150</td>\n",
       "    </tr>\n",
       "    <tr>\n",
       "      <td>1000</td>\n",
       "      <td>0.661100</td>\n",
       "      <td>0.641188</td>\n",
       "    </tr>\n",
       "    <tr>\n",
       "      <td>1100</td>\n",
       "      <td>0.674800</td>\n",
       "      <td>0.637479</td>\n",
       "    </tr>\n",
       "    <tr>\n",
       "      <td>1200</td>\n",
       "      <td>0.785900</td>\n",
       "      <td>0.635036</td>\n",
       "    </tr>\n",
       "    <tr>\n",
       "      <td>1300</td>\n",
       "      <td>0.824200</td>\n",
       "      <td>0.633360</td>\n",
       "    </tr>\n",
       "    <tr>\n",
       "      <td>1400</td>\n",
       "      <td>0.540200</td>\n",
       "      <td>0.632758</td>\n",
       "    </tr>\n",
       "  </tbody>\n",
       "</table><p>"
      ],
      "text/plain": [
       "<IPython.core.display.HTML object>"
      ]
     },
     "metadata": {},
     "output_type": "display_data"
    },
    {
     "data": {
      "text/plain": [
       "TrainOutput(global_step=1452, training_loss=0.8919132413450351, metrics={'train_runtime': 2756.9916, 'train_samples_per_second': 4.213, 'train_steps_per_second': 0.527, 'total_flos': 0.0, 'train_loss': 0.8919132413450351, 'epoch': 2.9979338842975207})"
      ]
     },
     "execution_count": 17,
     "metadata": {},
     "output_type": "execute_result"
    }
   ],
   "source": [
    "loss = MultipleNegativesRankingLoss(model)\n",
    "\n",
    "args = SentenceTransformerTrainingArguments(\n",
    "    output_dir=\"../models/multilingual-e5-small-finetune-danish-subject\",\n",
    "    num_train_epochs=3,\n",
    "    per_device_train_batch_size=8,\n",
    "    per_device_eval_batch_size=8,\n",
    "    learning_rate=2e-5,\n",
    "    warmup_ratio=0.1,\n",
    "    bf16=True,  \n",
    "    batch_sampler=BatchSamplers.NO_DUPLICATES,  # MultipleNegativesRankingLoss benefits from no duplicate samples in a batch according to the documentation\n",
    "    eval_strategy=\"steps\",\n",
    "    eval_steps=100,\n",
    "    save_strategy=\"steps\",\n",
    "    save_steps=100,\n",
    "    save_total_limit=2,\n",
    "    logging_steps=25,\n",
    "    logging_first_step=True,\n",
    ")\n",
    "\n",
    "trainer = SentenceTransformerTrainer(\n",
    "    model=model,\n",
    "    args=args,\n",
    "    train_dataset=dataset[\"train\"],\n",
    "    eval_dataset=dataset[\"test\"],\n",
    "    loss=loss,\n",
    ")\n",
    "trainer.train()"
   ]
  },
  {
   "cell_type": "markdown",
   "id": "3803d63b-01f7-4222-bcaa-15c126013bc6",
   "metadata": {},
   "source": [
    "Now that we have a trained model, and before we test it, I would like to share a bit about what I look for in the logging. First, I check to see if there is a steadily decreasing validation loss throughout the training process.\n",
    "\n",
    "What can sometimes happen is that while the training loss continues to decrease, the validation loss stops improving. This is usually a sign of overfitting the model.\n",
    "\n",
    "Second, I notice that even though my training loss is generally decreasing, there are occasional spikes. This is probably due to the small batch size. Unfortunately, I cannot change this because of memory limitations.\n",
    "\n",
    "Now, we can run our test again to see if performance has improved. To do this, we need to re-embed our corpus using the fine-tuned model."
   ]
  },
  {
   "cell_type": "code",
   "execution_count": 18,
   "id": "803239e9-7e38-4255-8c1d-7752d5e48ee6",
   "metadata": {},
   "outputs": [
    {
     "name": "stderr",
     "output_type": "stream",
     "text": [
      "Saving embeddings: 100%|██████████████████████████████████████████████████████████████████████████████████████████████████████████████████████████████████████| 1173/1173 [02:38<00:00,  7.39it/s]\n"
     ]
    }
   ],
   "source": [
    "with tqdm(total=len(data[\"corpus\"].keys()), desc=\"Saving embeddings\") as pbar:\n",
    "    for id, context in data[\"corpus\"].items():\n",
    "        speech_name = data[\"related_speech\"][id]\n",
    "        embedding = model.encode(context).tolist()\n",
    "        write_to_db(speech_name, id, context, embedding, False)\n",
    "        pbar.update(1)"
   ]
  },
  {
   "cell_type": "markdown",
   "id": "f1d26a4b-31f5-4230-9e40-1c221af8083b",
   "metadata": {},
   "source": [
    "And finally we can test"
   ]
  },
  {
   "cell_type": "code",
   "execution_count": 19,
   "id": "6916e302-4054-4400-b26a-5b2fe0914582",
   "metadata": {},
   "outputs": [
    {
     "name": "stdout",
     "output_type": "stream",
     "text": [
      "Recall@10 Metric:  0.4716202270381837\n",
      "Recall@10 Metric %:  0.44813381492948057\n",
      "Recall@4 Metric:  0.3240454076367389\n",
      "Recall@4 Metric %:  0.30822153422772613\n"
     ]
    }
   ],
   "source": [
    "\n",
    "recall_10 = test_triplet.apply(\n",
    "        lambda x: recall_k(x[\"anchor\"], model, 10, data, False), axis=1\n",
    "    )\n",
    "recall_10 = pd.DataFrame(recall_10.tolist(), index=recall_10.index)\n",
    "print(\"Recall@10 Metric: \", recall_10[0].sum() / test_triplet.shape[0])\n",
    "print(\"Recall@10 Metric %: \", recall_10[1].sum() / test_triplet.shape[0])\n",
    "\n",
    "\n",
    "recall_4 = test_triplet.apply(\n",
    "        lambda x: recall_k(x[\"anchor\"], model, 4, data, False), axis=1\n",
    "    )\n",
    "recall_4 = pd.DataFrame(recall_4.tolist(), index=recall_4.index)\n",
    "print(\"Recall@4 Metric: \", recall_4[0].sum() / test_triplet.shape[0])\n",
    "print(\"Recall@4 Metric %: \", recall_4[1].sum() / test_triplet.shape[0])"
   ]
  },
  {
   "cell_type": "markdown",
   "id": "6da67cc5-bd32-40c1-b430-e7ee1b68b869",
   "metadata": {},
   "source": [
    "GREAT SUCCES!!!!! It looks like we've improved our model on all metrics. We did not have to send our data anywhere :D \n",
    "\n",
    "Before we finish for today, I would like to add a few words to the recall metrics. To b honest the result does not look that great.\n",
    "The reason is that, we are looking for very specific values. But when we look at the actual data what we see is the queries finding \n",
    "relevant text. Just not the specific documents we were looking for. The reason is that when our model generated subjects. It could generate\n",
    "multiple subjects which are very close in meaning to eachother. \n",
    "\n",
    "For instance we have 153 subjects with the word *pandemic* (pandemi in danish), this means that when testing for one of the pandemic subjects, \n",
    "we might get a relevant chunk from a different pandemic subject.\n",
    "\n",
    "I Would like for you to think at these measures as a way to compare the model performance before and after finetuning, and not as an absolute truth."
   ]
  },
  {
   "cell_type": "code",
   "execution_count": 20,
   "id": "9966a83e-77c3-4d34-8919-745c5ce575d4",
   "metadata": {},
   "outputs": [
    {
     "data": {
      "text/plain": [
       "143"
      ]
     },
     "execution_count": 20,
     "metadata": {},
     "output_type": "execute_result"
    }
   ],
   "source": [
    "len([subject for subject in data[\"query_lk\"].keys() if \"pandemi\" in subject.lower()])"
   ]
  },
  {
   "cell_type": "markdown",
   "id": "e410fd7f-f8e6-4c36-af1c-9b601e08ef59",
   "metadata": {},
   "source": [
    "Now lets built a simple RAG application. Having the model this does not take a lot of code, which can be found below"
   ]
  },
  {
   "cell_type": "code",
   "execution_count": 37,
   "id": "52999739-a9ef-412f-81e9-82eef582cc45",
   "metadata": {},
   "outputs": [],
   "source": [
    "METTE_PROMPT_TEMPLATE = \"\"\"\\\n",
    "Du er en LLM som giver svarer på hvad Mette Frederiksen syntes om {question}. \\\n",
    "Du må kun besvarer baseret af de nedenstående citater, Du skal kun komme med et enkelt svar som er på Dansk \\\n",
    "\n",
    "---------------------\n",
    "{context_str}\n",
    "---------------------\n",
    "\"\"\"\n",
    "\n",
    "def rag():\n",
    "    while True:\n",
    "        ### First we ask the user for input\n",
    "        query = input(\"Hvilket emne vil du høre Mette Frederiksens mening om? Skriv \\\\stop hvis du vil lukke programmet. \\n\\n\")\n",
    "\n",
    "        ### Check if user wants to exit\n",
    "        if query == \"\\\\stop\":\n",
    "            print(\"Farvel\")\n",
    "            break\n",
    "            \n",
    "        print(\"Tænker ...\")\n",
    "        emb = model.encode(query).tolist() ### Encode input\n",
    "        \n",
    "        print(\"Henter citater...\")\n",
    "        ### Query Database for relevant context\n",
    "        conn = pg.connect(\"dbname=vector_rag user=postgres password=postgres\")\n",
    "        conn.autocommit = True\n",
    "        cur = conn.cursor()\n",
    "        \n",
    "        cur.execute(\n",
    "            \"SELECT speech, context FROM embeddings ORDER BY embedding <-> %s::vector LIMIT 5;\",\n",
    "            (str(emb),),\n",
    "        )\n",
    "        \n",
    "        result = cur.fetchall()\n",
    "        \n",
    "        context_all = []\n",
    "        speeches =  []\n",
    "        for row in result:\n",
    "            speech = row[0]\n",
    "            speeches.append(speech)\n",
    "            context_all.append(f\"'{row[1]}'\")\n",
    "\n",
    "        ### Generate Prompt\n",
    "        prompt = METTE_PROMPT_TEMPLATE.format(context_str=\"\\n\\n\".join(list(set(context_all))), question=query)\n",
    "        \n",
    "        cur.close()\n",
    "        conn.close()\n",
    "        \n",
    "        print(\"Prøver at formulere mig...\")\n",
    "        \n",
    "        res: ChatResponse = chat(model='phi4', messages=[\n",
    "          {\n",
    "            'role': 'user',\n",
    "            'content': prompt,\n",
    "          },\n",
    "        ])\n",
    "        print(res.message.content)\n",
    "        print(\"\\n\\nLink til Taler og Citater som er valgt:\")\n",
    "        for row in result:\n",
    "            print(\"-\" * 100)\n",
    "            print(f\"Context:\\n{row[1]}\")\n",
    "            print(f\"\\tLink: https://www.dansketaler.dk/tale/{row[0]}\\n\")"
   ]
  },
  {
   "cell_type": "code",
   "execution_count": 38,
   "id": "4da060a7-4f24-4094-b8c7-a44574c398cb",
   "metadata": {},
   "outputs": [
    {
     "name": "stdin",
     "output_type": "stream",
     "text": [
      "Hvilket emne vil du høre Mette Frederiksens mening om? Skriv \\stop hvis du vil lukke programmet. \n",
      "\n",
      " Kunstig Intelligens\n"
     ]
    },
    {
     "name": "stdout",
     "output_type": "stream",
     "text": [
      "Tænker ...\n",
      "Henter citater...\n",
      "Prøver at formulere mig...\n",
      "This passage reflects on the current societal landscape, focusing particularly on the role of artificial intelligence (AI) and its implications. Here's a breakdown:\n",
      "\n",
      "1. **Artificial Intelligence and Change**:\n",
      "   - The text highlights AI as a transformative force in society, drawing parallels to past technological revolutions like computers defeating humans at chess.\n",
      "   - It acknowledges both positive potential—such as solving complex societal problems—and negative aspects, including misuse for misinformation or manipulation.\n",
      "\n",
      "2. **Ethical Concerns and Regulation**:\n",
      "   - There is an urgent call for ethical considerations and regulation regarding AI's development and use to prevent harm and ensure it benefits society democratically.\n",
      "   - The passage suggests that current mechanisms are insufficient, particularly in protecting vulnerable groups like children from potential exploitation by AI technologies.\n",
      "\n",
      "3. **Societal Responsibility**:\n",
      "   - Adults bear the responsibility of guiding technological advancements responsibly. This includes creating regulations and ensuring AI serves humanity's best interests.\n",
      "   - There is an emphasis on safeguarding personal data and maintaining open democratic dialogue as technology evolves rapidly.\n",
      "\n",
      "4. **Educational Initiatives**:\n",
      "   - The author describes a visit to FGU in Hvidovre, Denmark, an educational institution providing support to youths facing various challenges, such as bullying or academic difficulties.\n",
      "   - It underscores the importance of supportive learning environments and tailored education approaches for those who struggle within traditional systems.\n",
      "\n",
      "Overall, the passage calls for proactive measures to harness AI's potential while addressing its ethical and societal risks. It stresses collaboration between technological innovation and moral responsibility to foster a future that benefits all members of society.\n",
      "\n",
      "\n",
      "Link til Taler og Citater som er valgt:\n",
      "----------------------------------------------------------------------------------------------------\n",
      "Context:\n",
      "Det, jeg lige har læst op, er ikke skrevet af mig – eller af noget andet menneske for den sags skyld. Det er skrevet af kunstig intelligens, ChatGPT. Og selv om det måske ikke rammer helt plet, hverken med ordene eller detaljerne i regeringens arbejdsprogram eller for den sags skyld antallet af punktummer, er det både fascinerende og skræmmende, hvad det er i stand til: på få sekunder at skrive en tale, løse en universitetsopgave, udarbejde en rapport med så stor overbevisning, at de færreste af os vil tro, at det var en robot og ikke et menneske, der stod bag. Kunstig intelligens er ikke fremtiden; den er virkeligheden. Og den vil forandre vores samfund i et omfang, som jeg slet ikke tror vi forstår endnu. Hvorfor starter jeg med det her i dag i en tale, der skal samle op på det folketingsår, som vi netop afslutter? Det gør jeg, fordi jeg i stedet for at se tilbage og vil bruge min taletid i dag på at se fremad. I dag vil jeg henvende mig til alle unge i Danmark. Det er jeres fremtid, den her tale kommer til at handle om – en fremtid, som på en lang række områder adskiller sig markant fra jeres forældres og bedsteforældres. Den kunstige intelligens, der brager frem netop nu, er bare ét eksempel på de nye livsvilkår, der gælder for jer. Om de unge i dag er der sagt mange ord. I er blevet kaldt skrøbelige, snowflakes, curlingbørn. Der er ikke noget af det, der i dag er mit ærinde. Jeg ser en generation, der er fuld af drømme og håb med vilje til at forme jeres eget liv. I er en generation, der er historisk engageret i det samfund, der er omkring jer. Det ser vi ikke kun i Danmark, men også på Færøerne og i Grønland. I kunsten og i kulturen, i klimakampen, i kampen for global retfærdighed er det jer unge, der sætter præg på det og rækker langt ud over rigsfællesskabets grænser. Med jer bærer I en stærk bevidsthed om, hvor I kommer fra, en stolthed over jeres rødder og jeres sprog. Rodfæstede, men med blikket rettet udad og opsatte på at skabe forandringer er I unge bannerførere for en ny måde at gå ud i verden på. Når vi kigger på jer unge i det hele taget, vokser I op i en tid, der synes mere usikker med klimaforandringer, økonomisk uro og nye skarpe modsætninger i verden mellem os, der vil demokrati og frihed, og dem, der vil det modsatte. Krigen i Ukraine – et brutalt angreb på et fredeligt europæisk land – var et brud med alt det, vi troede var givet. I dag ser vi i al sin klarhed, at fred og fremgang ikke er noget, der kommer af sig selv, men noget, vi vedvarende må kæmpe for. Danmark er et af de lande, der støtter Ukraine allermest set i forhold til vores størrelse, og det gør vi med en selvfølgelighed, der klæder vores land. Vi gør det først og fremmest for at hjælpe soldaterne på slagmarken, men vi gør det også for at sikre danske børn og unge en fremtid med fred og frihed. Udfordringer er der masser af, men der er også grund til håb: et vestligt sammenhold, der står stærkere end i mange år, en robust, stærk dansk økonomi, nye løsninger på klimaforandringerne, stærke danske værdier, et levende fællesskab, en vidunderlig jordklode og dig midt i det hele – og lige rundt om hjørnet en dansk sommer med festivaler og lyse nætter, hvor I forhåbentlig kommer til at feste, til solen står op. Vi former selv vores fremtid, og sammen kan vi både gør den grønnere, lysere og friere. Og hver og en kan gøre en forskel, hvis vi og I griber de muligheder, der åbner sig hver eneste dag i vores fantastiske lille land. Lad mig starte der, med mulighederne. I de kommende uger vil tusindvis af glade unge strømme ud i vores gaderne, studenter med huer på hovedet og faglærte med svendebreve i hånden, og der vil være stolte forældre, taler, Dannebrog, fester og fællesskab. En ny årgang er klar til at indtage verden. Uddannelse åbner døren til fremtiden for hver enkelt af jer, og I gør vores samfund dygtigere og dygtigere for hver generation.Netop derfor er det regeringens klare ambition at få endnu flere med i fællesskabet. Jeg sagde for få sekunder siden, at Danmark er et land med mange muligheder. Men hånden på hjertet ved vi jo godt, at de muligheder er skævt fordelt. Det er bare lettere at gribe livet, hvis barndommen har været god. Det er lettere at gribe livet, hvis mor og far bakker op, og sådan er det desværre ikke for alle. Vi har stadig væk ikke et samfund, der reelt giver de samme muligheder til alle. Vi vil som regering gøre alt, hvad vi kan, for, at I unge, der lige nu hverken er i gang med uddannelse eller har job, får hjælp til at komme videre. For uddannelse og skole er horisonter, der udvides. Det er frihed, det er ånd, det er dannelse, det er viden, og det er evner og kompetencer. Og det er jeres mulighed for at få et godt arbejdsliv. I skal ud på et arbejdsmarked, hvor I først og fremmest er ventet med længsel. Takket være den ansvarlige økonomiske politik, som skiftende regeringer i Danmark har ført, er dansk økonomi i dag stærkere, end vi havde turdet håbe på. Aldrig før har så mange danskere været i arbejde, og det vilde er, at der er efterspørgsel på endnu flere. Men det er også et arbejdsmarked i hastig forandring, og det bringer mig tilbage til den kunstige intelligens. Det var en revolution, da en computer for knap 30 år siden for første gang besejrede et menneske i skak. I dag har robotterne for længst overhalet os, når det handler om at løse de mest komplicerede opgaver og overskue kolossale mængder af viden og data, og perspektiverne er svimlende. Kunstig intelligens kan flytte os fremad på en lang række områder. Måske kan den hjælpe os med at kurere alvorlige sygdomme, finde svar på de samfundsudfordringer, vi står over for, og i øvrigt løse opgaver, så vi kan frigøre tid til andre og vigtigere ting. Det er med andre ord en kraftfuld og potent teknologi, men det er også en teknologi, som vi kommer til at se blive misbrugt til at skabe forvrængede virkeligheder uden for demokratisk kontrol. Allerede nu er det svært at vide, om en tekst, et billede eller en tale er rigtig eller falsk. Den vil blive brugt til misinformation og hadtale og til at manipulere den offentlige samtale. Der er stærke algoritmer, der skaber ekkokamre. Der er børn, der får en kunstig ven på telefonen, som taler til dem, skaber tillid og fører samtaler. I sidste uge kom det frem – og man tror, det er løgn – at den kan vejlede vores børn om selvskade. Det er over alle grænser for etik og moral. I børn må ikke være forsøgskaniner i et eksperiment, som ingen af os voksne kender konsekvenserne af. Der er ikke tid til at være naive. Vi bliver nødt til at få greb om den her udvikling, og vi bliver nødt til at finde svar på de dilemmaer, som teknologien stiller os overfor. Hvordan sikrer vi en ansvarlig brug af kunstig intelligens? Hvordan beskytter vi vores data og personlige oplysninger? Hvordan holder vi fast i en åben demokratisk debat? Jeg siger ikke, vi skal stoppe den teknologiske udvikling, men vi skal sikre – og det er vores forpligtelse – at teknologien bliver brugt til gavn for mennesker, for samfundet og for vores demokrati. Og kære alle sammen: Vi er bagud. Og det bliver nødt til at være vores løfte, fra os voksne til jer børn og unge, at vi skal passe meget, meget bedre på jer, at vi skal regulere, og at vi skal turde at tage ansvaret på os. For et par uger siden besøgte jeg FGU ude i Hvidovre på Vestegnen. Det er et ret fantastisk uddannelsestilbud til unge, der sådan lige er ved at finde deres vej i livet. Jeg mødte selvfølgelig først og fremmest en dejlig flok unge mennesker. Nogle af dem har haft en ret svær start på livet. Mobning fortæller mange om, og ordblindhed er desværre stadig væk noget, der er udfordringer med, og der er tunge sociale problemer. Andre var skoletrætte efter mødet med en folkeskole, hvor timerne har føltes lidt for lange og bøgerne nok lidt for tykke, hvis ellers de har haft bøger – det vender jeg tilbage til. På FGU har de unge heldigvis fået gejst og mod på tilværelsen. Godt hjulpet på vej af nogle dygtige lærere og gode rammer har de taget magten over deres egen fremtid.\n",
      "\tLink: https://www.dansketaler.dk/tale/c28a68e8-caae-4e5f-b946-49a85a424610\n",
      "\n",
      "----------------------------------------------------------------------------------------------------\n",
      "Context:\n",
      "»Det har været en ære og en udfordring at lede en bred regering i det seneste folketingsår. Vi har arbejdet hårdt for at samarbejde på tværs af partier og sikre en stærk og bæredygtig fremtid for Danmark. Vi har taget skridt til at bekæmpe klimaforandringerne og sikre et mere retfærdigt og inkluderende samfund, hvor alle borgere har lige muligheder. Vi har også arbejdet på at styrke vores sundheds- og socialsystem, så alle borgere kan få den hjælp, de har brug for. Selvom vi har oplevet udfordringer og modstand undervejs, er jeg stolt af, hvad vi har opnået sammen i det seneste folketingsår. Vi vil fortsætte med at samarbejde på tværs af partier og arbejde hårdt for at sikre en bedre fremtid for alle danskere. Tak for jeres tillid og samarbejde i det seneste folketingsår. Vi ser frem til at fortsætte dette arbejde i fremtiden.« Det, jeg lige har læst op, er ikke skrevet af mig – eller af noget andet menneske for den sags skyld. Det er skrevet af kunstig intelligens, ChatGPT. Og selv om det måske ikke rammer helt plet, hverken med ordene eller detaljerne i regeringens arbejdsprogram eller for den sags skyld antallet af punktummer, er det både fascinerende og skræmmende, hvad det er i stand til: på få sekunder at skrive en tale, løse en universitetsopgave, udarbejde en rapport med så stor overbevisning, at de færreste af os vil tro, at det var en robot og ikke et menneske, der stod bag. Kunstig intelligens er ikke fremtiden; den er virkeligheden. Og den vil forandre vores samfund i et omfang, som jeg slet ikke tror vi forstår endnu. Hvorfor starter jeg med det her i dag i en tale, der skal samle op på det folketingsår, som vi netop afslutter? Det gør jeg, fordi jeg i stedet for at se tilbage og vil bruge min taletid i dag på at se fremad. I dag vil jeg henvende mig til alle unge i Danmark. Det er jeres fremtid, den her tale kommer til at handle om – en fremtid, som på en lang række områder adskiller sig markant fra jeres forældres og bedsteforældres. Den kunstige intelligens, der brager frem netop nu, er bare ét eksempel på de nye livsvilkår, der gælder for jer.\n",
      "\tLink: https://www.dansketaler.dk/tale/c28a68e8-caae-4e5f-b946-49a85a424610\n",
      "\n",
      "----------------------------------------------------------------------------------------------------\n",
      "Context:\n",
      "Secretary General. Excellencies. Ladies and gentlemen. “Anyone who isn’t profoundly shocked by quantum theory – has not understood it.” Those are the words of the Danish scientist Niels Bohr. Who laid the foundation for everything we know as quantum physics today. More than 100 years ago, Niels Bohr took the first steps – right here in Copenhagen. Back then, he knew that his discoveries would not only shock his fellow scientists. But also fundamentally change how we perceive and understand the world.\n",
      "\tLink: https://www.dansketaler.dk/tale/30de6816-731b-4a19-ab60-1ec4a933d4fa\n",
      "\n",
      "----------------------------------------------------------------------------------------------------\n",
      "Context:\n",
      "In other words, ladies and gentlemen: A lot is at stake! And all of us gathered here today have a great responsibility on our shoulders. Quantum technology is today an inevitable part of our security framework in NATO. But as you know – better than anyone else: Quantum technology takes time, skills and funds to develop. If we want to ensure our common security in the future. And unlock the quantum potential in our societies. We have to lay the groundwork now. And we – as responsible governments – need to provide the right conditions for research and industry to prosper and grow.\n",
      "\tLink: https://www.dansketaler.dk/tale/30de6816-731b-4a19-ab60-1ec4a933d4fa\n",
      "\n",
      "----------------------------------------------------------------------------------------------------\n",
      "Context:\n",
      "Jeg oplever, at jeres tillidsfolk – og nu er jeg selv datter af en tillidsmand, så jeg ved hvor vigtigt det er at have sådan en ved sin side igennem et helt liv. Jeg oplever, at jeres tillidsfolk, og i øvrigt også jeres medlemmer, er optaget af fremtiden, men aldrig bange for den. Det er ikke – tror jeg – mange steder i verden, at lønmodtagere er glade for robotter. Eller hvor kunstig intelligens ikke kun ses som en trussel og en udfordring. Her i Danmark, der går I til det hele med den samme tilgang, som den, der har kendetegnet Dansk Metal altid. At teknologien skal bruges til at gøre Danmark stærkere og komme danske lønmodtagere til gode. Som gør den enkelte dygtigere og hjælper os med at øge produktiviteten. Det vil for os aldrig nogensinde være et mål, at teknologi skal erstatte gode danske arbejdspladser. Men der, hvor den kan hjælpe os. Gøre livet lettere for den enkelte. Styrke vores model. Ja, der kommer vi selvfølgelig til at bruge den. For det er en af de vigtigste måder at sikre, at vi også i fremtiden har et stærkt dansk erhvervsliv med tilstrækkeligt mange gode arbejdspladser.\n",
      "\tLink: https://www.dansketaler.dk/tale/fd3fadd1-d63b-409f-b7f4-f679e6f9dc64\n",
      "\n"
     ]
    },
    {
     "name": "stdin",
     "output_type": "stream",
     "text": [
      "Hvilket emne vil du høre Mette Frederiksens mening om? Skriv \\stop hvis du vil lukke programmet. \n",
      "\n",
      " Børnefamiliers rolle\n"
     ]
    },
    {
     "name": "stdout",
     "output_type": "stream",
     "text": [
      "Tænker ...\n",
      "Henter citater...\n",
      "Prøver at formulere mig...\n",
      "Mette Frederiksen understregede betydningen af at tage sig af børnefamilier og fremhævede vigtigheden af at møde hver enkelt barn med et ord om tillid. Hun anerkendte de mange pædagoger, der arbejder med vores børn, men påpegede også den afgørende rolle for familien og samfundet i at sikre børnenes trivsel. Frederiksen talte om konkrete eksempler på forsømmelse og vold, hvilket understregede behovet for et stærkt samfund, der kan beskytte og hjælpe alle børn. Hun betragtede det som en kamp for både nuværende sikkerhed og fremtidig trivsel af danske børn.\n",
      "\n",
      "\n",
      "Link til Taler og Citater som er valgt:\n",
      "----------------------------------------------------------------------------------------------------\n",
      "Context:\n",
      "Men lige bag jer, der står en kæreste. En ægtefælle. En mor. En far. En bror. En ven. Et barn. Eller en lillesøster som mig selv.\n",
      "\tLink: https://www.dansketaler.dk/tale/3cf235ec-fa96-4e5f-8e4f-a66ccf5f8d2c\n",
      "\n",
      "----------------------------------------------------------------------------------------------------\n",
      "Context:\n",
      "Det er en kamp for vores sikkerhed. Og for vores børns fremtid.\n",
      "\tLink: https://www.dansketaler.dk/tale/3cf235ec-fa96-4e5f-8e4f-a66ccf5f8d2c\n",
      "\n",
      "----------------------------------------------------------------------------------------------------\n",
      "Context:\n",
      "Kan jeg forstå, at landets pædagoger gerne vil anerkendes for deres vigtige arbejde med vores børn? Ja.\n",
      "\tLink: https://www.dansketaler.dk/tale/665d44a1-f5ce-4f5f-b9f8-e3c35d13253a\n",
      "\n",
      "----------------------------------------------------------------------------------------------------\n",
      "Context:\n",
      "Jeg kan stadig huske hende. En helt lille bitte pige. Ikke engang et år gammel endnu. Hun lå og sov i armene hos en af de voksne. Med sonde i næsen. Jeg spurgte selvfølgelig til, hvorfor der sad slanger i det lille ansigt. Pigen var blevet forsømt så meget, at hun havde lukket ned for sin egen sutterefleks. Det er noget af det mest instinktive, vi mennesker har. Hun var blevet fjernet fra sin mor. Udsultet. Alene. Jeg mødte pigen på et børnehjem for nogle år siden. Og jeg tænker tit på, hvordan det går hende. Har hun fået en god og kærlig plejefamilie? Spiser hun? Har hun levet på forskellige institutioner? Har hun fået den hjælp, hun skal have? Den lille pige er ikke alene. Hver gang, der er samlet 100 dejlige danske børn på en græsplæne. Så er der én af dem, der ikke kan være hjemme hos deres mor og far. De er blandt de 14.000 danske børn og unge, der er anbragt uden for hjemmet. De fleste børn på den plæne. De har det godt. Fordi deres forældre er der for dem. Og fordi vi sammen har skabt et samfund, der er så stærkt, at vi kan tage os af hinanden. Men der er stadig for mange af vores børn, der ikke har det godt nok. Kan I huske Brønderslev-sagen? Tønder-sagen? Indespærringer. Vold. Misbrug. Og hvad med dem, vi aldrig hører om? I dag vil jeg gerne tale om Danmarks børn. Dem, der har det godt. Og dem, der skal have det meget, meget bedre.\n",
      "\tLink: https://www.dansketaler.dk/tale/9c51c5ca-e866-40ec-97c0-222f7d519bb5\n",
      "\n",
      "----------------------------------------------------------------------------------------------------\n",
      "Context:\n",
      "Vi skal møde hvert eneste barn og hver eneste ung med de vigtigste ord: Vi tror på dig.\n",
      "\tLink: https://www.dansketaler.dk/tale/665d44a1-f5ce-4f5f-b9f8-e3c35d13253a\n",
      "\n"
     ]
    },
    {
     "name": "stdin",
     "output_type": "stream",
     "text": [
      "Hvilket emne vil du høre Mette Frederiksens mening om? Skriv \\stop hvis du vil lukke programmet. \n",
      "\n",
      " \\stop\n"
     ]
    },
    {
     "name": "stdout",
     "output_type": "stream",
     "text": [
      "Farvel\n"
     ]
    }
   ],
   "source": [
    "rag()"
   ]
  },
  {
   "cell_type": "code",
   "execution_count": null,
   "id": "44c15553-cb7f-482e-82ad-483a047275e8",
   "metadata": {},
   "outputs": [],
   "source": []
  }
 ],
 "metadata": {
  "kernelspec": {
   "display_name": "Python 3 (ipykernel)",
   "language": "python",
   "name": "python3"
  },
  "language_info": {
   "codemirror_mode": {
    "name": "ipython",
    "version": 3
   },
   "file_extension": ".py",
   "mimetype": "text/x-python",
   "name": "python",
   "nbconvert_exporter": "python",
   "pygments_lexer": "ipython3",
   "version": "3.12.8"
  }
 },
 "nbformat": 4,
 "nbformat_minor": 5
}
